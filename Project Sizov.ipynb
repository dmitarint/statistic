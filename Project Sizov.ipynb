{
 "cells": [
  {
   "cell_type": "markdown",
   "metadata": {},
   "source": [
    "__Цель__\n",
    "\n",
    "Методом линейной регрессии определить, какие факторы больше всего влияют на качество вина, и вторая цель - определить, влият ли содержание диоксидов серы на качество вина."
   ]
  },
  {
   "cell_type": "markdown",
   "metadata": {},
   "source": [
    "Импотрируем необходимые библиотеки"
   ]
  },
  {
   "cell_type": "code",
   "execution_count": 1,
   "metadata": {},
   "outputs": [],
   "source": [
    "import pandas as pd\n",
    "import numpy as np\n",
    "from matplotlib import pyplot as plt\n",
    "from scipy import stats\n",
    "import seaborn as sns\n",
    "import warnings\n",
    "warnings.simplefilter('ignore')\n",
    "%matplotlib inline"
   ]
  },
  {
   "cell_type": "markdown",
   "metadata": {},
   "source": [
    "Импортируем датасет о качестве вина"
   ]
  },
  {
   "cell_type": "code",
   "execution_count": 2,
   "metadata": {},
   "outputs": [],
   "source": [
    "db=pd.read_csv('winequality-red.csv')"
   ]
  },
  {
   "cell_type": "code",
   "execution_count": 3,
   "metadata": {},
   "outputs": [
    {
     "data": {
      "text/html": [
       "<div>\n",
       "<style scoped>\n",
       "    .dataframe tbody tr th:only-of-type {\n",
       "        vertical-align: middle;\n",
       "    }\n",
       "\n",
       "    .dataframe tbody tr th {\n",
       "        vertical-align: top;\n",
       "    }\n",
       "\n",
       "    .dataframe thead th {\n",
       "        text-align: right;\n",
       "    }\n",
       "</style>\n",
       "<table border=\"1\" class=\"dataframe\">\n",
       "  <thead>\n",
       "    <tr style=\"text-align: right;\">\n",
       "      <th></th>\n",
       "      <th>fixed acidity</th>\n",
       "      <th>volatile acidity</th>\n",
       "      <th>citric acid</th>\n",
       "      <th>residual sugar</th>\n",
       "      <th>chlorides</th>\n",
       "      <th>free sulfur dioxide</th>\n",
       "      <th>total sulfur dioxide</th>\n",
       "      <th>density</th>\n",
       "      <th>pH</th>\n",
       "      <th>sulphates</th>\n",
       "      <th>alcohol</th>\n",
       "      <th>quality</th>\n",
       "    </tr>\n",
       "  </thead>\n",
       "  <tbody>\n",
       "    <tr>\n",
       "      <td>0</td>\n",
       "      <td>7.4</td>\n",
       "      <td>0.70</td>\n",
       "      <td>0.00</td>\n",
       "      <td>1.9</td>\n",
       "      <td>0.076</td>\n",
       "      <td>11.0</td>\n",
       "      <td>34.0</td>\n",
       "      <td>0.9978</td>\n",
       "      <td>3.51</td>\n",
       "      <td>0.56</td>\n",
       "      <td>9.4</td>\n",
       "      <td>5</td>\n",
       "    </tr>\n",
       "    <tr>\n",
       "      <td>1</td>\n",
       "      <td>7.8</td>\n",
       "      <td>0.88</td>\n",
       "      <td>0.00</td>\n",
       "      <td>2.6</td>\n",
       "      <td>0.098</td>\n",
       "      <td>25.0</td>\n",
       "      <td>67.0</td>\n",
       "      <td>0.9968</td>\n",
       "      <td>3.20</td>\n",
       "      <td>0.68</td>\n",
       "      <td>9.8</td>\n",
       "      <td>5</td>\n",
       "    </tr>\n",
       "    <tr>\n",
       "      <td>2</td>\n",
       "      <td>7.8</td>\n",
       "      <td>0.76</td>\n",
       "      <td>0.04</td>\n",
       "      <td>2.3</td>\n",
       "      <td>0.092</td>\n",
       "      <td>15.0</td>\n",
       "      <td>54.0</td>\n",
       "      <td>0.9970</td>\n",
       "      <td>3.26</td>\n",
       "      <td>0.65</td>\n",
       "      <td>9.8</td>\n",
       "      <td>5</td>\n",
       "    </tr>\n",
       "    <tr>\n",
       "      <td>3</td>\n",
       "      <td>11.2</td>\n",
       "      <td>0.28</td>\n",
       "      <td>0.56</td>\n",
       "      <td>1.9</td>\n",
       "      <td>0.075</td>\n",
       "      <td>17.0</td>\n",
       "      <td>60.0</td>\n",
       "      <td>0.9980</td>\n",
       "      <td>3.16</td>\n",
       "      <td>0.58</td>\n",
       "      <td>9.8</td>\n",
       "      <td>6</td>\n",
       "    </tr>\n",
       "    <tr>\n",
       "      <td>4</td>\n",
       "      <td>7.4</td>\n",
       "      <td>0.70</td>\n",
       "      <td>0.00</td>\n",
       "      <td>1.9</td>\n",
       "      <td>0.076</td>\n",
       "      <td>11.0</td>\n",
       "      <td>34.0</td>\n",
       "      <td>0.9978</td>\n",
       "      <td>3.51</td>\n",
       "      <td>0.56</td>\n",
       "      <td>9.4</td>\n",
       "      <td>5</td>\n",
       "    </tr>\n",
       "    <tr>\n",
       "      <td>5</td>\n",
       "      <td>7.4</td>\n",
       "      <td>0.66</td>\n",
       "      <td>0.00</td>\n",
       "      <td>1.8</td>\n",
       "      <td>0.075</td>\n",
       "      <td>13.0</td>\n",
       "      <td>40.0</td>\n",
       "      <td>0.9978</td>\n",
       "      <td>3.51</td>\n",
       "      <td>0.56</td>\n",
       "      <td>9.4</td>\n",
       "      <td>5</td>\n",
       "    </tr>\n",
       "    <tr>\n",
       "      <td>6</td>\n",
       "      <td>7.9</td>\n",
       "      <td>0.60</td>\n",
       "      <td>0.06</td>\n",
       "      <td>1.6</td>\n",
       "      <td>0.069</td>\n",
       "      <td>15.0</td>\n",
       "      <td>59.0</td>\n",
       "      <td>0.9964</td>\n",
       "      <td>3.30</td>\n",
       "      <td>0.46</td>\n",
       "      <td>9.4</td>\n",
       "      <td>5</td>\n",
       "    </tr>\n",
       "    <tr>\n",
       "      <td>7</td>\n",
       "      <td>7.3</td>\n",
       "      <td>0.65</td>\n",
       "      <td>0.00</td>\n",
       "      <td>1.2</td>\n",
       "      <td>0.065</td>\n",
       "      <td>15.0</td>\n",
       "      <td>21.0</td>\n",
       "      <td>0.9946</td>\n",
       "      <td>3.39</td>\n",
       "      <td>0.47</td>\n",
       "      <td>10.0</td>\n",
       "      <td>7</td>\n",
       "    </tr>\n",
       "    <tr>\n",
       "      <td>8</td>\n",
       "      <td>7.8</td>\n",
       "      <td>0.58</td>\n",
       "      <td>0.02</td>\n",
       "      <td>2.0</td>\n",
       "      <td>0.073</td>\n",
       "      <td>9.0</td>\n",
       "      <td>18.0</td>\n",
       "      <td>0.9968</td>\n",
       "      <td>3.36</td>\n",
       "      <td>0.57</td>\n",
       "      <td>9.5</td>\n",
       "      <td>7</td>\n",
       "    </tr>\n",
       "    <tr>\n",
       "      <td>9</td>\n",
       "      <td>7.5</td>\n",
       "      <td>0.50</td>\n",
       "      <td>0.36</td>\n",
       "      <td>6.1</td>\n",
       "      <td>0.071</td>\n",
       "      <td>17.0</td>\n",
       "      <td>102.0</td>\n",
       "      <td>0.9978</td>\n",
       "      <td>3.35</td>\n",
       "      <td>0.80</td>\n",
       "      <td>10.5</td>\n",
       "      <td>5</td>\n",
       "    </tr>\n",
       "  </tbody>\n",
       "</table>\n",
       "</div>"
      ],
      "text/plain": [
       "   fixed acidity  volatile acidity  citric acid  residual sugar  chlorides  \\\n",
       "0            7.4              0.70         0.00             1.9      0.076   \n",
       "1            7.8              0.88         0.00             2.6      0.098   \n",
       "2            7.8              0.76         0.04             2.3      0.092   \n",
       "3           11.2              0.28         0.56             1.9      0.075   \n",
       "4            7.4              0.70         0.00             1.9      0.076   \n",
       "5            7.4              0.66         0.00             1.8      0.075   \n",
       "6            7.9              0.60         0.06             1.6      0.069   \n",
       "7            7.3              0.65         0.00             1.2      0.065   \n",
       "8            7.8              0.58         0.02             2.0      0.073   \n",
       "9            7.5              0.50         0.36             6.1      0.071   \n",
       "\n",
       "   free sulfur dioxide  total sulfur dioxide  density    pH  sulphates  \\\n",
       "0                 11.0                  34.0   0.9978  3.51       0.56   \n",
       "1                 25.0                  67.0   0.9968  3.20       0.68   \n",
       "2                 15.0                  54.0   0.9970  3.26       0.65   \n",
       "3                 17.0                  60.0   0.9980  3.16       0.58   \n",
       "4                 11.0                  34.0   0.9978  3.51       0.56   \n",
       "5                 13.0                  40.0   0.9978  3.51       0.56   \n",
       "6                 15.0                  59.0   0.9964  3.30       0.46   \n",
       "7                 15.0                  21.0   0.9946  3.39       0.47   \n",
       "8                  9.0                  18.0   0.9968  3.36       0.57   \n",
       "9                 17.0                 102.0   0.9978  3.35       0.80   \n",
       "\n",
       "   alcohol  quality  \n",
       "0      9.4        5  \n",
       "1      9.8        5  \n",
       "2      9.8        5  \n",
       "3      9.8        6  \n",
       "4      9.4        5  \n",
       "5      9.4        5  \n",
       "6      9.4        5  \n",
       "7     10.0        7  \n",
       "8      9.5        7  \n",
       "9     10.5        5  "
      ]
     },
     "metadata": {},
     "output_type": "display_data"
    },
    {
     "name": "stdout",
     "output_type": "stream",
     "text": [
      "<class 'pandas.core.frame.DataFrame'>\n",
      "RangeIndex: 1599 entries, 0 to 1598\n",
      "Data columns (total 12 columns):\n",
      "fixed acidity           1599 non-null float64\n",
      "volatile acidity        1599 non-null float64\n",
      "citric acid             1599 non-null float64\n",
      "residual sugar          1599 non-null float64\n",
      "chlorides               1599 non-null float64\n",
      "free sulfur dioxide     1599 non-null float64\n",
      "total sulfur dioxide    1599 non-null float64\n",
      "density                 1599 non-null float64\n",
      "pH                      1599 non-null float64\n",
      "sulphates               1599 non-null float64\n",
      "alcohol                 1599 non-null float64\n",
      "quality                 1599 non-null int64\n",
      "dtypes: float64(11), int64(1)\n",
      "memory usage: 150.0 KB\n"
     ]
    },
    {
     "data": {
      "text/plain": [
       "None"
      ]
     },
     "metadata": {},
     "output_type": "display_data"
    },
    {
     "data": {
      "text/html": [
       "<div>\n",
       "<style scoped>\n",
       "    .dataframe tbody tr th:only-of-type {\n",
       "        vertical-align: middle;\n",
       "    }\n",
       "\n",
       "    .dataframe tbody tr th {\n",
       "        vertical-align: top;\n",
       "    }\n",
       "\n",
       "    .dataframe thead th {\n",
       "        text-align: right;\n",
       "    }\n",
       "</style>\n",
       "<table border=\"1\" class=\"dataframe\">\n",
       "  <thead>\n",
       "    <tr style=\"text-align: right;\">\n",
       "      <th></th>\n",
       "      <th>fixed acidity</th>\n",
       "      <th>volatile acidity</th>\n",
       "      <th>citric acid</th>\n",
       "      <th>residual sugar</th>\n",
       "      <th>chlorides</th>\n",
       "      <th>free sulfur dioxide</th>\n",
       "      <th>total sulfur dioxide</th>\n",
       "      <th>density</th>\n",
       "      <th>pH</th>\n",
       "      <th>sulphates</th>\n",
       "      <th>alcohol</th>\n",
       "      <th>quality</th>\n",
       "    </tr>\n",
       "  </thead>\n",
       "  <tbody>\n",
       "    <tr>\n",
       "      <td>count</td>\n",
       "      <td>1599.00</td>\n",
       "      <td>1599.00</td>\n",
       "      <td>1599.00</td>\n",
       "      <td>1599.00</td>\n",
       "      <td>1599.00</td>\n",
       "      <td>1599.00</td>\n",
       "      <td>1599.00</td>\n",
       "      <td>1599.00</td>\n",
       "      <td>1599.00</td>\n",
       "      <td>1599.00</td>\n",
       "      <td>1599.00</td>\n",
       "      <td>1599.00</td>\n",
       "    </tr>\n",
       "    <tr>\n",
       "      <td>mean</td>\n",
       "      <td>8.32</td>\n",
       "      <td>0.53</td>\n",
       "      <td>0.27</td>\n",
       "      <td>2.54</td>\n",
       "      <td>0.09</td>\n",
       "      <td>15.87</td>\n",
       "      <td>46.47</td>\n",
       "      <td>1.00</td>\n",
       "      <td>3.31</td>\n",
       "      <td>0.66</td>\n",
       "      <td>10.42</td>\n",
       "      <td>5.64</td>\n",
       "    </tr>\n",
       "    <tr>\n",
       "      <td>std</td>\n",
       "      <td>1.74</td>\n",
       "      <td>0.18</td>\n",
       "      <td>0.19</td>\n",
       "      <td>1.41</td>\n",
       "      <td>0.05</td>\n",
       "      <td>10.46</td>\n",
       "      <td>32.90</td>\n",
       "      <td>0.00</td>\n",
       "      <td>0.15</td>\n",
       "      <td>0.17</td>\n",
       "      <td>1.07</td>\n",
       "      <td>0.81</td>\n",
       "    </tr>\n",
       "    <tr>\n",
       "      <td>min</td>\n",
       "      <td>4.60</td>\n",
       "      <td>0.12</td>\n",
       "      <td>0.00</td>\n",
       "      <td>0.90</td>\n",
       "      <td>0.01</td>\n",
       "      <td>1.00</td>\n",
       "      <td>6.00</td>\n",
       "      <td>0.99</td>\n",
       "      <td>2.74</td>\n",
       "      <td>0.33</td>\n",
       "      <td>8.40</td>\n",
       "      <td>3.00</td>\n",
       "    </tr>\n",
       "    <tr>\n",
       "      <td>25%</td>\n",
       "      <td>7.10</td>\n",
       "      <td>0.39</td>\n",
       "      <td>0.09</td>\n",
       "      <td>1.90</td>\n",
       "      <td>0.07</td>\n",
       "      <td>7.00</td>\n",
       "      <td>22.00</td>\n",
       "      <td>1.00</td>\n",
       "      <td>3.21</td>\n",
       "      <td>0.55</td>\n",
       "      <td>9.50</td>\n",
       "      <td>5.00</td>\n",
       "    </tr>\n",
       "    <tr>\n",
       "      <td>50%</td>\n",
       "      <td>7.90</td>\n",
       "      <td>0.52</td>\n",
       "      <td>0.26</td>\n",
       "      <td>2.20</td>\n",
       "      <td>0.08</td>\n",
       "      <td>14.00</td>\n",
       "      <td>38.00</td>\n",
       "      <td>1.00</td>\n",
       "      <td>3.31</td>\n",
       "      <td>0.62</td>\n",
       "      <td>10.20</td>\n",
       "      <td>6.00</td>\n",
       "    </tr>\n",
       "    <tr>\n",
       "      <td>75%</td>\n",
       "      <td>9.20</td>\n",
       "      <td>0.64</td>\n",
       "      <td>0.42</td>\n",
       "      <td>2.60</td>\n",
       "      <td>0.09</td>\n",
       "      <td>21.00</td>\n",
       "      <td>62.00</td>\n",
       "      <td>1.00</td>\n",
       "      <td>3.40</td>\n",
       "      <td>0.73</td>\n",
       "      <td>11.10</td>\n",
       "      <td>6.00</td>\n",
       "    </tr>\n",
       "    <tr>\n",
       "      <td>max</td>\n",
       "      <td>15.90</td>\n",
       "      <td>1.58</td>\n",
       "      <td>1.00</td>\n",
       "      <td>15.50</td>\n",
       "      <td>0.61</td>\n",
       "      <td>72.00</td>\n",
       "      <td>289.00</td>\n",
       "      <td>1.00</td>\n",
       "      <td>4.01</td>\n",
       "      <td>2.00</td>\n",
       "      <td>14.90</td>\n",
       "      <td>8.00</td>\n",
       "    </tr>\n",
       "  </tbody>\n",
       "</table>\n",
       "</div>"
      ],
      "text/plain": [
       "       fixed acidity  volatile acidity  citric acid  residual sugar  \\\n",
       "count        1599.00           1599.00      1599.00         1599.00   \n",
       "mean            8.32              0.53         0.27            2.54   \n",
       "std             1.74              0.18         0.19            1.41   \n",
       "min             4.60              0.12         0.00            0.90   \n",
       "25%             7.10              0.39         0.09            1.90   \n",
       "50%             7.90              0.52         0.26            2.20   \n",
       "75%             9.20              0.64         0.42            2.60   \n",
       "max            15.90              1.58         1.00           15.50   \n",
       "\n",
       "       chlorides  free sulfur dioxide  total sulfur dioxide  density       pH  \\\n",
       "count    1599.00              1599.00               1599.00  1599.00  1599.00   \n",
       "mean        0.09                15.87                 46.47     1.00     3.31   \n",
       "std         0.05                10.46                 32.90     0.00     0.15   \n",
       "min         0.01                 1.00                  6.00     0.99     2.74   \n",
       "25%         0.07                 7.00                 22.00     1.00     3.21   \n",
       "50%         0.08                14.00                 38.00     1.00     3.31   \n",
       "75%         0.09                21.00                 62.00     1.00     3.40   \n",
       "max         0.61                72.00                289.00     1.00     4.01   \n",
       "\n",
       "       sulphates  alcohol  quality  \n",
       "count    1599.00  1599.00  1599.00  \n",
       "mean        0.66    10.42     5.64  \n",
       "std         0.17     1.07     0.81  \n",
       "min         0.33     8.40     3.00  \n",
       "25%         0.55     9.50     5.00  \n",
       "50%         0.62    10.20     6.00  \n",
       "75%         0.73    11.10     6.00  \n",
       "max         2.00    14.90     8.00  "
      ]
     },
     "metadata": {},
     "output_type": "display_data"
    }
   ],
   "source": [
    "display(db.head(10))\n",
    "display(db.info())\n",
    "display(db.describe().round(2))"
   ]
  },
  {
   "cell_type": "markdown",
   "metadata": {},
   "source": [
    "Строим матрицу корреляций. Отображаем ее в графическом виде, для этого используем заданный цветовой стиль.\n",
    "\n",
    "Значения коэффициентов корреляции округялем до 2-х знаков после запятой"
   ]
  },
  {
   "cell_type": "code",
   "execution_count": 4,
   "metadata": {},
   "outputs": [
    {
     "data": {
      "text/html": [
       "<style  type=\"text/css\" >\n",
       "    #T_a6926a54_20d4_11ea_8515_dc719676e507row0_col0 {\n",
       "            background-color:  #c3553a;\n",
       "            color:  #000000;\n",
       "        }    #T_a6926a54_20d4_11ea_8515_dc719676e507row0_col1 {\n",
       "            background-color:  #87b0bc;\n",
       "            color:  #000000;\n",
       "        }    #T_a6926a54_20d4_11ea_8515_dc719676e507row0_col2 {\n",
       "            background-color:  #dc9c8c;\n",
       "            color:  #000000;\n",
       "        }    #T_a6926a54_20d4_11ea_8515_dc719676e507row0_col3 {\n",
       "            background-color:  #85aebb;\n",
       "            color:  #000000;\n",
       "        }    #T_a6926a54_20d4_11ea_8515_dc719676e507row0_col4 {\n",
       "            background-color:  #aac8d1;\n",
       "            color:  #000000;\n",
       "        }    #T_a6926a54_20d4_11ea_8515_dc719676e507row0_col5 {\n",
       "            background-color:  #3f7f93;\n",
       "            color:  #000000;\n",
       "        }    #T_a6926a54_20d4_11ea_8515_dc719676e507row0_col6 {\n",
       "            background-color:  #5b92a3;\n",
       "            color:  #000000;\n",
       "        }    #T_a6926a54_20d4_11ea_8515_dc719676e507row0_col7 {\n",
       "            background-color:  #dd9e8f;\n",
       "            color:  #000000;\n",
       "        }    #T_a6926a54_20d4_11ea_8515_dc719676e507row0_col8 {\n",
       "            background-color:  #3f7f93;\n",
       "            color:  #000000;\n",
       "        }    #T_a6926a54_20d4_11ea_8515_dc719676e507row0_col9 {\n",
       "            background-color:  #c5dae0;\n",
       "            color:  #000000;\n",
       "        }    #T_a6926a54_20d4_11ea_8515_dc719676e507row0_col10 {\n",
       "            background-color:  #adcad2;\n",
       "            color:  #000000;\n",
       "        }    #T_a6926a54_20d4_11ea_8515_dc719676e507row0_col11 {\n",
       "            background-color:  #cbdee4;\n",
       "            color:  #000000;\n",
       "        }    #T_a6926a54_20d4_11ea_8515_dc719676e507row1_col0 {\n",
       "            background-color:  #9fc0ca;\n",
       "            color:  #000000;\n",
       "        }    #T_a6926a54_20d4_11ea_8515_dc719676e507row1_col1 {\n",
       "            background-color:  #c3553a;\n",
       "            color:  #000000;\n",
       "        }    #T_a6926a54_20d4_11ea_8515_dc719676e507row1_col2 {\n",
       "            background-color:  #3f7f93;\n",
       "            color:  #000000;\n",
       "        }    #T_a6926a54_20d4_11ea_8515_dc719676e507row1_col3 {\n",
       "            background-color:  #5c93a4;\n",
       "            color:  #000000;\n",
       "        }    #T_a6926a54_20d4_11ea_8515_dc719676e507row1_col4 {\n",
       "            background-color:  #a1c2cc;\n",
       "            color:  #000000;\n",
       "        }    #T_a6926a54_20d4_11ea_8515_dc719676e507row1_col5 {\n",
       "            background-color:  #6d9ead;\n",
       "            color:  #000000;\n",
       "        }    #T_a6926a54_20d4_11ea_8515_dc719676e507row1_col6 {\n",
       "            background-color:  #97bbc6;\n",
       "            color:  #000000;\n",
       "        }    #T_a6926a54_20d4_11ea_8515_dc719676e507row1_col7 {\n",
       "            background-color:  #c2d8df;\n",
       "            color:  #000000;\n",
       "        }    #T_a6926a54_20d4_11ea_8515_dc719676e507row1_col8 {\n",
       "            background-color:  #f9edea;\n",
       "            color:  #000000;\n",
       "        }    #T_a6926a54_20d4_11ea_8515_dc719676e507row1_col9 {\n",
       "            background-color:  #3f7f93;\n",
       "            color:  #000000;\n",
       "        }    #T_a6926a54_20d4_11ea_8515_dc719676e507row1_col10 {\n",
       "            background-color:  #89b2be;\n",
       "            color:  #000000;\n",
       "        }    #T_a6926a54_20d4_11ea_8515_dc719676e507row1_col11 {\n",
       "            background-color:  #3f7f93;\n",
       "            color:  #000000;\n",
       "        }    #T_a6926a54_20d4_11ea_8515_dc719676e507row2_col0 {\n",
       "            background-color:  #da9584;\n",
       "            color:  #000000;\n",
       "        }    #T_a6926a54_20d4_11ea_8515_dc719676e507row2_col1 {\n",
       "            background-color:  #3f7f93;\n",
       "            color:  #000000;\n",
       "        }    #T_a6926a54_20d4_11ea_8515_dc719676e507row2_col2 {\n",
       "            background-color:  #c3553a;\n",
       "            color:  #000000;\n",
       "        }    #T_a6926a54_20d4_11ea_8515_dc719676e507row2_col3 {\n",
       "            background-color:  #90b6c1;\n",
       "            color:  #000000;\n",
       "        }    #T_a6926a54_20d4_11ea_8515_dc719676e507row2_col4 {\n",
       "            background-color:  #cbdee4;\n",
       "            color:  #000000;\n",
       "        }    #T_a6926a54_20d4_11ea_8515_dc719676e507row2_col5 {\n",
       "            background-color:  #5c93a4;\n",
       "            color:  #000000;\n",
       "        }    #T_a6926a54_20d4_11ea_8515_dc719676e507row2_col6 {\n",
       "            background-color:  #8bb3bf;\n",
       "            color:  #000000;\n",
       "        }    #T_a6926a54_20d4_11ea_8515_dc719676e507row2_col7 {\n",
       "            background-color:  #f5e3de;\n",
       "            color:  #000000;\n",
       "        }    #T_a6926a54_20d4_11ea_8515_dc719676e507row2_col8 {\n",
       "            background-color:  #5e94a5;\n",
       "            color:  #000000;\n",
       "        }    #T_a6926a54_20d4_11ea_8515_dc719676e507row2_col9 {\n",
       "            background-color:  #ecf4f7;\n",
       "            color:  #000000;\n",
       "        }    #T_a6926a54_20d4_11ea_8515_dc719676e507row2_col10 {\n",
       "            background-color:  #d9e7ec;\n",
       "            color:  #000000;\n",
       "        }    #T_a6926a54_20d4_11ea_8515_dc719676e507row2_col11 {\n",
       "            background-color:  #e8f1f4;\n",
       "            color:  #000000;\n",
       "        }    #T_a6926a54_20d4_11ea_8515_dc719676e507row3_col0 {\n",
       "            background-color:  #f2f2f2;\n",
       "            color:  #000000;\n",
       "        }    #T_a6926a54_20d4_11ea_8515_dc719676e507row3_col1 {\n",
       "            background-color:  #c7dbe1;\n",
       "            color:  #000000;\n",
       "        }    #T_a6926a54_20d4_11ea_8515_dc719676e507row3_col2 {\n",
       "            background-color:  #e9f2f5;\n",
       "            color:  #000000;\n",
       "        }    #T_a6926a54_20d4_11ea_8515_dc719676e507row3_col3 {\n",
       "            background-color:  #c3553a;\n",
       "            color:  #000000;\n",
       "        }    #T_a6926a54_20d4_11ea_8515_dc719676e507row3_col4 {\n",
       "            background-color:  #9fc0ca;\n",
       "            color:  #000000;\n",
       "        }    #T_a6926a54_20d4_11ea_8515_dc719676e507row3_col5 {\n",
       "            background-color:  #afcbd4;\n",
       "            color:  #000000;\n",
       "        }    #T_a6926a54_20d4_11ea_8515_dc719676e507row3_col6 {\n",
       "            background-color:  #bfd6dd;\n",
       "            color:  #000000;\n",
       "        }    #T_a6926a54_20d4_11ea_8515_dc719676e507row3_col7 {\n",
       "            background-color:  #f6e5e1;\n",
       "            color:  #000000;\n",
       "        }    #T_a6926a54_20d4_11ea_8515_dc719676e507row3_col8 {\n",
       "            background-color:  #c5dae0;\n",
       "            color:  #000000;\n",
       "        }    #T_a6926a54_20d4_11ea_8515_dc719676e507row3_col9 {\n",
       "            background-color:  #90b6c1;\n",
       "            color:  #000000;\n",
       "        }    #T_a6926a54_20d4_11ea_8515_dc719676e507row3_col10 {\n",
       "            background-color:  #c8dce2;\n",
       "            color:  #000000;\n",
       "        }    #T_a6926a54_20d4_11ea_8515_dc719676e507row3_col11 {\n",
       "            background-color:  #adcad2;\n",
       "            color:  #000000;\n",
       "        }    #T_a6926a54_20d4_11ea_8515_dc719676e507row4_col0 {\n",
       "            background-color:  #f2f2f2;\n",
       "            color:  #000000;\n",
       "        }    #T_a6926a54_20d4_11ea_8515_dc719676e507row4_col1 {\n",
       "            background-color:  #d5e5ea;\n",
       "            color:  #000000;\n",
       "        }    #T_a6926a54_20d4_11ea_8515_dc719676e507row4_col2 {\n",
       "            background-color:  #f2f2f2;\n",
       "            color:  #000000;\n",
       "        }    #T_a6926a54_20d4_11ea_8515_dc719676e507row4_col3 {\n",
       "            background-color:  #70a1af;\n",
       "            color:  #000000;\n",
       "        }    #T_a6926a54_20d4_11ea_8515_dc719676e507row4_col4 {\n",
       "            background-color:  #c3553a;\n",
       "            color:  #000000;\n",
       "        }    #T_a6926a54_20d4_11ea_8515_dc719676e507row4_col5 {\n",
       "            background-color:  #73a2b1;\n",
       "            color:  #000000;\n",
       "        }    #T_a6926a54_20d4_11ea_8515_dc719676e507row4_col6 {\n",
       "            background-color:  #8eb4c0;\n",
       "            color:  #000000;\n",
       "        }    #T_a6926a54_20d4_11ea_8515_dc719676e507row4_col7 {\n",
       "            background-color:  #f2f2f2;\n",
       "            color:  #000000;\n",
       "        }    #T_a6926a54_20d4_11ea_8515_dc719676e507row4_col8 {\n",
       "            background-color:  #9dbfc9;\n",
       "            color:  #000000;\n",
       "        }    #T_a6926a54_20d4_11ea_8515_dc719676e507row4_col9 {\n",
       "            background-color:  #f2f2f2;\n",
       "            color:  #000000;\n",
       "        }    #T_a6926a54_20d4_11ea_8515_dc719676e507row4_col10 {\n",
       "            background-color:  #85aebb;\n",
       "            color:  #000000;\n",
       "        }    #T_a6926a54_20d4_11ea_8515_dc719676e507row4_col11 {\n",
       "            background-color:  #87b0bc;\n",
       "            color:  #000000;\n",
       "        }    #T_a6926a54_20d4_11ea_8515_dc719676e507row5_col0 {\n",
       "            background-color:  #b7d0d8;\n",
       "            color:  #000000;\n",
       "        }    #T_a6926a54_20d4_11ea_8515_dc719676e507row5_col1 {\n",
       "            background-color:  #c3d9df;\n",
       "            color:  #000000;\n",
       "        }    #T_a6926a54_20d4_11ea_8515_dc719676e507row5_col2 {\n",
       "            background-color:  #b8d1d9;\n",
       "            color:  #000000;\n",
       "        }    #T_a6926a54_20d4_11ea_8515_dc719676e507row5_col3 {\n",
       "            background-color:  #9fc0ca;\n",
       "            color:  #000000;\n",
       "        }    #T_a6926a54_20d4_11ea_8515_dc719676e507row5_col4 {\n",
       "            background-color:  #90b6c1;\n",
       "            color:  #000000;\n",
       "        }    #T_a6926a54_20d4_11ea_8515_dc719676e507row5_col5 {\n",
       "            background-color:  #c3553a;\n",
       "            color:  #000000;\n",
       "        }    #T_a6926a54_20d4_11ea_8515_dc719676e507row5_col6 {\n",
       "            background-color:  #e3b1a4;\n",
       "            color:  #000000;\n",
       "        }    #T_a6926a54_20d4_11ea_8515_dc719676e507row5_col7 {\n",
       "            background-color:  #b8d1d9;\n",
       "            color:  #000000;\n",
       "        }    #T_a6926a54_20d4_11ea_8515_dc719676e507row5_col8 {\n",
       "            background-color:  #e9f2f5;\n",
       "            color:  #000000;\n",
       "        }    #T_a6926a54_20d4_11ea_8515_dc719676e507row5_col9 {\n",
       "            background-color:  #9dbfc9;\n",
       "            color:  #000000;\n",
       "        }    #T_a6926a54_20d4_11ea_8515_dc719676e507row5_col10 {\n",
       "            background-color:  #acc9d2;\n",
       "            color:  #000000;\n",
       "        }    #T_a6926a54_20d4_11ea_8515_dc719676e507row5_col11 {\n",
       "            background-color:  #9bbec8;\n",
       "            color:  #000000;\n",
       "        }    #T_a6926a54_20d4_11ea_8515_dc719676e507row6_col0 {\n",
       "            background-color:  #bfd6dd;\n",
       "            color:  #000000;\n",
       "        }    #T_a6926a54_20d4_11ea_8515_dc719676e507row6_col1 {\n",
       "            background-color:  #d9e7ec;\n",
       "            color:  #000000;\n",
       "        }    #T_a6926a54_20d4_11ea_8515_dc719676e507row6_col2 {\n",
       "            background-color:  #cee0e6;\n",
       "            color:  #000000;\n",
       "        }    #T_a6926a54_20d4_11ea_8515_dc719676e507row6_col3 {\n",
       "            background-color:  #a4c4cd;\n",
       "            color:  #000000;\n",
       "        }    #T_a6926a54_20d4_11ea_8515_dc719676e507row6_col4 {\n",
       "            background-color:  #9dbfc9;\n",
       "            color:  #000000;\n",
       "        }    #T_a6926a54_20d4_11ea_8515_dc719676e507row6_col5 {\n",
       "            background-color:  #e5b5a8;\n",
       "            color:  #000000;\n",
       "        }    #T_a6926a54_20d4_11ea_8515_dc719676e507row6_col6 {\n",
       "            background-color:  #c3553a;\n",
       "            color:  #000000;\n",
       "        }    #T_a6926a54_20d4_11ea_8515_dc719676e507row6_col7 {\n",
       "            background-color:  #d0e1e6;\n",
       "            color:  #000000;\n",
       "        }    #T_a6926a54_20d4_11ea_8515_dc719676e507row6_col8 {\n",
       "            background-color:  #cadde3;\n",
       "            color:  #000000;\n",
       "        }    #T_a6926a54_20d4_11ea_8515_dc719676e507row6_col9 {\n",
       "            background-color:  #9abdc7;\n",
       "            color:  #000000;\n",
       "        }    #T_a6926a54_20d4_11ea_8515_dc719676e507row6_col10 {\n",
       "            background-color:  #88b1bd;\n",
       "            color:  #000000;\n",
       "        }    #T_a6926a54_20d4_11ea_8515_dc719676e507row6_col11 {\n",
       "            background-color:  #76a4b2;\n",
       "            color:  #000000;\n",
       "        }    #T_a6926a54_20d4_11ea_8515_dc719676e507row7_col0 {\n",
       "            background-color:  #da9786;\n",
       "            color:  #000000;\n",
       "        }    #T_a6926a54_20d4_11ea_8515_dc719676e507row7_col1 {\n",
       "            background-color:  #cbdee4;\n",
       "            color:  #000000;\n",
       "        }    #T_a6926a54_20d4_11ea_8515_dc719676e507row7_col2 {\n",
       "            background-color:  #f3ddd8;\n",
       "            color:  #000000;\n",
       "        }    #T_a6926a54_20d4_11ea_8515_dc719676e507row7_col3 {\n",
       "            background-color:  #d9e7ec;\n",
       "            color:  #000000;\n",
       "        }    #T_a6926a54_20d4_11ea_8515_dc719676e507row7_col4 {\n",
       "            background-color:  #cbdee4;\n",
       "            color:  #000000;\n",
       "        }    #T_a6926a54_20d4_11ea_8515_dc719676e507row7_col5 {\n",
       "            background-color:  #6a9cac;\n",
       "            color:  #000000;\n",
       "        }    #T_a6926a54_20d4_11ea_8515_dc719676e507row7_col6 {\n",
       "            background-color:  #95b9c5;\n",
       "            color:  #000000;\n",
       "        }    #T_a6926a54_20d4_11ea_8515_dc719676e507row7_col7 {\n",
       "            background-color:  #c3553a;\n",
       "            color:  #000000;\n",
       "        }    #T_a6926a54_20d4_11ea_8515_dc719676e507row7_col8 {\n",
       "            background-color:  #8bb3bf;\n",
       "            color:  #000000;\n",
       "        }    #T_a6926a54_20d4_11ea_8515_dc719676e507row7_col9 {\n",
       "            background-color:  #bbd3da;\n",
       "            color:  #000000;\n",
       "        }    #T_a6926a54_20d4_11ea_8515_dc719676e507row7_col10 {\n",
       "            background-color:  #3f7f93;\n",
       "            color:  #000000;\n",
       "        }    #T_a6926a54_20d4_11ea_8515_dc719676e507row7_col11 {\n",
       "            background-color:  #79a7b4;\n",
       "            color:  #000000;\n",
       "        }    #T_a6926a54_20d4_11ea_8515_dc719676e507row8_col0 {\n",
       "            background-color:  #3f7f93;\n",
       "            color:  #000000;\n",
       "        }    #T_a6926a54_20d4_11ea_8515_dc719676e507row8_col1 {\n",
       "            background-color:  #f2f2f2;\n",
       "            color:  #000000;\n",
       "        }    #T_a6926a54_20d4_11ea_8515_dc719676e507row8_col2 {\n",
       "            background-color:  #408094;\n",
       "            color:  #000000;\n",
       "        }    #T_a6926a54_20d4_11ea_8515_dc719676e507row8_col3 {\n",
       "            background-color:  #3f7f93;\n",
       "            color:  #000000;\n",
       "        }    #T_a6926a54_20d4_11ea_8515_dc719676e507row8_col4 {\n",
       "            background-color:  #3f7f93;\n",
       "            color:  #000000;\n",
       "        }    #T_a6926a54_20d4_11ea_8515_dc719676e507row8_col5 {\n",
       "            background-color:  #88b1bd;\n",
       "            color:  #000000;\n",
       "        }    #T_a6926a54_20d4_11ea_8515_dc719676e507row8_col6 {\n",
       "            background-color:  #6a9cac;\n",
       "            color:  #000000;\n",
       "        }    #T_a6926a54_20d4_11ea_8515_dc719676e507row8_col7 {\n",
       "            background-color:  #6599a9;\n",
       "            color:  #000000;\n",
       "        }    #T_a6926a54_20d4_11ea_8515_dc719676e507row8_col8 {\n",
       "            background-color:  #c3553a;\n",
       "            color:  #000000;\n",
       "        }    #T_a6926a54_20d4_11ea_8515_dc719676e507row8_col9 {\n",
       "            background-color:  #528c9e;\n",
       "            color:  #000000;\n",
       "        }    #T_a6926a54_20d4_11ea_8515_dc719676e507row8_col10 {\n",
       "            background-color:  #f2f2f2;\n",
       "            color:  #000000;\n",
       "        }    #T_a6926a54_20d4_11ea_8515_dc719676e507row8_col11 {\n",
       "            background-color:  #9abdc7;\n",
       "            color:  #000000;\n",
       "        }    #T_a6926a54_20d4_11ea_8515_dc719676e507row9_col0 {\n",
       "            background-color:  #f2f2f2;\n",
       "            color:  #000000;\n",
       "        }    #T_a6926a54_20d4_11ea_8515_dc719676e507row9_col1 {\n",
       "            background-color:  #87b0bc;\n",
       "            color:  #000000;\n",
       "        }    #T_a6926a54_20d4_11ea_8515_dc719676e507row9_col2 {\n",
       "            background-color:  #f7e9e6;\n",
       "            color:  #000000;\n",
       "        }    #T_a6926a54_20d4_11ea_8515_dc719676e507row9_col3 {\n",
       "            background-color:  #5e94a5;\n",
       "            color:  #000000;\n",
       "        }    #T_a6926a54_20d4_11ea_8515_dc719676e507row9_col4 {\n",
       "            background-color:  #f2f2f2;\n",
       "            color:  #000000;\n",
       "        }    #T_a6926a54_20d4_11ea_8515_dc719676e507row9_col5 {\n",
       "            background-color:  #82adba;\n",
       "            color:  #000000;\n",
       "        }    #T_a6926a54_20d4_11ea_8515_dc719676e507row9_col6 {\n",
       "            background-color:  #8cb3bf;\n",
       "            color:  #000000;\n",
       "        }    #T_a6926a54_20d4_11ea_8515_dc719676e507row9_col7 {\n",
       "            background-color:  #e3eef1;\n",
       "            color:  #000000;\n",
       "        }    #T_a6926a54_20d4_11ea_8515_dc719676e507row9_col8 {\n",
       "            background-color:  #acc9d2;\n",
       "            color:  #000000;\n",
       "        }    #T_a6926a54_20d4_11ea_8515_dc719676e507row9_col9 {\n",
       "            background-color:  #c3553a;\n",
       "            color:  #000000;\n",
       "        }    #T_a6926a54_20d4_11ea_8515_dc719676e507row9_col10 {\n",
       "            background-color:  #d4e4e9;\n",
       "            color:  #000000;\n",
       "        }    #T_a6926a54_20d4_11ea_8515_dc719676e507row9_col11 {\n",
       "            background-color:  #f2f2f2;\n",
       "            color:  #000000;\n",
       "        }    #T_a6926a54_20d4_11ea_8515_dc719676e507row10_col0 {\n",
       "            background-color:  #cbdee4;\n",
       "            color:  #000000;\n",
       "        }    #T_a6926a54_20d4_11ea_8515_dc719676e507row10_col1 {\n",
       "            background-color:  #94b9c4;\n",
       "            color:  #000000;\n",
       "        }    #T_a6926a54_20d4_11ea_8515_dc719676e507row10_col2 {\n",
       "            background-color:  #e2edf1;\n",
       "            color:  #000000;\n",
       "        }    #T_a6926a54_20d4_11ea_8515_dc719676e507row10_col3 {\n",
       "            background-color:  #6b9dad;\n",
       "            color:  #000000;\n",
       "        }    #T_a6926a54_20d4_11ea_8515_dc719676e507row10_col4 {\n",
       "            background-color:  #4b879a;\n",
       "            color:  #000000;\n",
       "        }    #T_a6926a54_20d4_11ea_8515_dc719676e507row10_col5 {\n",
       "            background-color:  #5a91a2;\n",
       "            color:  #000000;\n",
       "        }    #T_a6926a54_20d4_11ea_8515_dc719676e507row10_col6 {\n",
       "            background-color:  #3f7f93;\n",
       "            color:  #000000;\n",
       "        }    #T_a6926a54_20d4_11ea_8515_dc719676e507row10_col7 {\n",
       "            background-color:  #3f7f93;\n",
       "            color:  #000000;\n",
       "        }    #T_a6926a54_20d4_11ea_8515_dc719676e507row10_col8 {\n",
       "            background-color:  #f2f2f2;\n",
       "            color:  #000000;\n",
       "        }    #T_a6926a54_20d4_11ea_8515_dc719676e507row10_col9 {\n",
       "            background-color:  #a9c7d0;\n",
       "            color:  #000000;\n",
       "        }    #T_a6926a54_20d4_11ea_8515_dc719676e507row10_col10 {\n",
       "            background-color:  #c3553a;\n",
       "            color:  #000000;\n",
       "        }    #T_a6926a54_20d4_11ea_8515_dc719676e507row10_col11 {\n",
       "            background-color:  #f0d3cc;\n",
       "            color:  #000000;\n",
       "        }    #T_a6926a54_20d4_11ea_8515_dc719676e507row11_col0 {\n",
       "            background-color:  #f2f2f2;\n",
       "            color:  #000000;\n",
       "        }    #T_a6926a54_20d4_11ea_8515_dc719676e507row11_col1 {\n",
       "            background-color:  #6599a9;\n",
       "            color:  #000000;\n",
       "        }    #T_a6926a54_20d4_11ea_8515_dc719676e507row11_col2 {\n",
       "            background-color:  #f2f2f2;\n",
       "            color:  #000000;\n",
       "        }    #T_a6926a54_20d4_11ea_8515_dc719676e507row11_col3 {\n",
       "            background-color:  #6196a7;\n",
       "            color:  #000000;\n",
       "        }    #T_a6926a54_20d4_11ea_8515_dc719676e507row11_col4 {\n",
       "            background-color:  #679baa;\n",
       "            color:  #000000;\n",
       "        }    #T_a6926a54_20d4_11ea_8515_dc719676e507row11_col5 {\n",
       "            background-color:  #6095a6;\n",
       "            color:  #000000;\n",
       "        }    #T_a6926a54_20d4_11ea_8515_dc719676e507row11_col6 {\n",
       "            background-color:  #448396;\n",
       "            color:  #000000;\n",
       "        }    #T_a6926a54_20d4_11ea_8515_dc719676e507row11_col7 {\n",
       "            background-color:  #90b6c1;\n",
       "            color:  #000000;\n",
       "        }    #T_a6926a54_20d4_11ea_8515_dc719676e507row11_col8 {\n",
       "            background-color:  #ccdfe4;\n",
       "            color:  #000000;\n",
       "        }    #T_a6926a54_20d4_11ea_8515_dc719676e507row11_col9 {\n",
       "            background-color:  #dae8ec;\n",
       "            color:  #000000;\n",
       "        }    #T_a6926a54_20d4_11ea_8515_dc719676e507row11_col10 {\n",
       "            background-color:  #eccac1;\n",
       "            color:  #000000;\n",
       "        }    #T_a6926a54_20d4_11ea_8515_dc719676e507row11_col11 {\n",
       "            background-color:  #c3553a;\n",
       "            color:  #000000;\n",
       "        }</style><table id=\"T_a6926a54_20d4_11ea_8515_dc719676e507\" ><thead>    <tr>        <th class=\"blank level0\" ></th>        <th class=\"col_heading level0 col0\" >fixed acidity</th>        <th class=\"col_heading level0 col1\" >volatile acidity</th>        <th class=\"col_heading level0 col2\" >citric acid</th>        <th class=\"col_heading level0 col3\" >residual sugar</th>        <th class=\"col_heading level0 col4\" >chlorides</th>        <th class=\"col_heading level0 col5\" >free sulfur dioxide</th>        <th class=\"col_heading level0 col6\" >total sulfur dioxide</th>        <th class=\"col_heading level0 col7\" >density</th>        <th class=\"col_heading level0 col8\" >pH</th>        <th class=\"col_heading level0 col9\" >sulphates</th>        <th class=\"col_heading level0 col10\" >alcohol</th>        <th class=\"col_heading level0 col11\" >quality</th>    </tr></thead><tbody>\n",
       "                <tr>\n",
       "                        <th id=\"T_a6926a54_20d4_11ea_8515_dc719676e507level0_row0\" class=\"row_heading level0 row0\" >fixed acidity</th>\n",
       "                        <td id=\"T_a6926a54_20d4_11ea_8515_dc719676e507row0_col0\" class=\"data row0 col0\" >1</td>\n",
       "                        <td id=\"T_a6926a54_20d4_11ea_8515_dc719676e507row0_col1\" class=\"data row0 col1\" >-0.26</td>\n",
       "                        <td id=\"T_a6926a54_20d4_11ea_8515_dc719676e507row0_col2\" class=\"data row0 col2\" >0.67</td>\n",
       "                        <td id=\"T_a6926a54_20d4_11ea_8515_dc719676e507row0_col3\" class=\"data row0 col3\" >0.11</td>\n",
       "                        <td id=\"T_a6926a54_20d4_11ea_8515_dc719676e507row0_col4\" class=\"data row0 col4\" >0.094</td>\n",
       "                        <td id=\"T_a6926a54_20d4_11ea_8515_dc719676e507row0_col5\" class=\"data row0 col5\" >-0.15</td>\n",
       "                        <td id=\"T_a6926a54_20d4_11ea_8515_dc719676e507row0_col6\" class=\"data row0 col6\" >-0.11</td>\n",
       "                        <td id=\"T_a6926a54_20d4_11ea_8515_dc719676e507row0_col7\" class=\"data row0 col7\" >0.67</td>\n",
       "                        <td id=\"T_a6926a54_20d4_11ea_8515_dc719676e507row0_col8\" class=\"data row0 col8\" >-0.68</td>\n",
       "                        <td id=\"T_a6926a54_20d4_11ea_8515_dc719676e507row0_col9\" class=\"data row0 col9\" >0.18</td>\n",
       "                        <td id=\"T_a6926a54_20d4_11ea_8515_dc719676e507row0_col10\" class=\"data row0 col10\" >-0.062</td>\n",
       "                        <td id=\"T_a6926a54_20d4_11ea_8515_dc719676e507row0_col11\" class=\"data row0 col11\" >0.12</td>\n",
       "            </tr>\n",
       "            <tr>\n",
       "                        <th id=\"T_a6926a54_20d4_11ea_8515_dc719676e507level0_row1\" class=\"row_heading level0 row1\" >volatile acidity</th>\n",
       "                        <td id=\"T_a6926a54_20d4_11ea_8515_dc719676e507row1_col0\" class=\"data row1 col0\" >-0.26</td>\n",
       "                        <td id=\"T_a6926a54_20d4_11ea_8515_dc719676e507row1_col1\" class=\"data row1 col1\" >1</td>\n",
       "                        <td id=\"T_a6926a54_20d4_11ea_8515_dc719676e507row1_col2\" class=\"data row1 col2\" >-0.55</td>\n",
       "                        <td id=\"T_a6926a54_20d4_11ea_8515_dc719676e507row1_col3\" class=\"data row1 col3\" >0.0019</td>\n",
       "                        <td id=\"T_a6926a54_20d4_11ea_8515_dc719676e507row1_col4\" class=\"data row1 col4\" >0.061</td>\n",
       "                        <td id=\"T_a6926a54_20d4_11ea_8515_dc719676e507row1_col5\" class=\"data row1 col5\" >-0.011</td>\n",
       "                        <td id=\"T_a6926a54_20d4_11ea_8515_dc719676e507row1_col6\" class=\"data row1 col6\" >0.076</td>\n",
       "                        <td id=\"T_a6926a54_20d4_11ea_8515_dc719676e507row1_col7\" class=\"data row1 col7\" >0.022</td>\n",
       "                        <td id=\"T_a6926a54_20d4_11ea_8515_dc719676e507row1_col8\" class=\"data row1 col8\" >0.23</td>\n",
       "                        <td id=\"T_a6926a54_20d4_11ea_8515_dc719676e507row1_col9\" class=\"data row1 col9\" >-0.26</td>\n",
       "                        <td id=\"T_a6926a54_20d4_11ea_8515_dc719676e507row1_col10\" class=\"data row1 col10\" >-0.2</td>\n",
       "                        <td id=\"T_a6926a54_20d4_11ea_8515_dc719676e507row1_col11\" class=\"data row1 col11\" >-0.39</td>\n",
       "            </tr>\n",
       "            <tr>\n",
       "                        <th id=\"T_a6926a54_20d4_11ea_8515_dc719676e507level0_row2\" class=\"row_heading level0 row2\" >citric acid</th>\n",
       "                        <td id=\"T_a6926a54_20d4_11ea_8515_dc719676e507row2_col0\" class=\"data row2 col0\" >0.67</td>\n",
       "                        <td id=\"T_a6926a54_20d4_11ea_8515_dc719676e507row2_col1\" class=\"data row2 col1\" >-0.55</td>\n",
       "                        <td id=\"T_a6926a54_20d4_11ea_8515_dc719676e507row2_col2\" class=\"data row2 col2\" >1</td>\n",
       "                        <td id=\"T_a6926a54_20d4_11ea_8515_dc719676e507row2_col3\" class=\"data row2 col3\" >0.14</td>\n",
       "                        <td id=\"T_a6926a54_20d4_11ea_8515_dc719676e507row2_col4\" class=\"data row2 col4\" >0.2</td>\n",
       "                        <td id=\"T_a6926a54_20d4_11ea_8515_dc719676e507row2_col5\" class=\"data row2 col5\" >-0.061</td>\n",
       "                        <td id=\"T_a6926a54_20d4_11ea_8515_dc719676e507row2_col6\" class=\"data row2 col6\" >0.036</td>\n",
       "                        <td id=\"T_a6926a54_20d4_11ea_8515_dc719676e507row2_col7\" class=\"data row2 col7\" >0.36</td>\n",
       "                        <td id=\"T_a6926a54_20d4_11ea_8515_dc719676e507row2_col8\" class=\"data row2 col8\" >-0.54</td>\n",
       "                        <td id=\"T_a6926a54_20d4_11ea_8515_dc719676e507row2_col9\" class=\"data row2 col9\" >0.31</td>\n",
       "                        <td id=\"T_a6926a54_20d4_11ea_8515_dc719676e507row2_col10\" class=\"data row2 col10\" >0.11</td>\n",
       "                        <td id=\"T_a6926a54_20d4_11ea_8515_dc719676e507row2_col11\" class=\"data row2 col11\" >0.23</td>\n",
       "            </tr>\n",
       "            <tr>\n",
       "                        <th id=\"T_a6926a54_20d4_11ea_8515_dc719676e507level0_row3\" class=\"row_heading level0 row3\" >residual sugar</th>\n",
       "                        <td id=\"T_a6926a54_20d4_11ea_8515_dc719676e507row3_col0\" class=\"data row3 col0\" >0.11</td>\n",
       "                        <td id=\"T_a6926a54_20d4_11ea_8515_dc719676e507row3_col1\" class=\"data row3 col1\" >0.0019</td>\n",
       "                        <td id=\"T_a6926a54_20d4_11ea_8515_dc719676e507row3_col2\" class=\"data row3 col2\" >0.14</td>\n",
       "                        <td id=\"T_a6926a54_20d4_11ea_8515_dc719676e507row3_col3\" class=\"data row3 col3\" >1</td>\n",
       "                        <td id=\"T_a6926a54_20d4_11ea_8515_dc719676e507row3_col4\" class=\"data row3 col4\" >0.056</td>\n",
       "                        <td id=\"T_a6926a54_20d4_11ea_8515_dc719676e507row3_col5\" class=\"data row3 col5\" >0.19</td>\n",
       "                        <td id=\"T_a6926a54_20d4_11ea_8515_dc719676e507row3_col6\" class=\"data row3 col6\" >0.2</td>\n",
       "                        <td id=\"T_a6926a54_20d4_11ea_8515_dc719676e507row3_col7\" class=\"data row3 col7\" >0.36</td>\n",
       "                        <td id=\"T_a6926a54_20d4_11ea_8515_dc719676e507row3_col8\" class=\"data row3 col8\" >-0.086</td>\n",
       "                        <td id=\"T_a6926a54_20d4_11ea_8515_dc719676e507row3_col9\" class=\"data row3 col9\" >0.0055</td>\n",
       "                        <td id=\"T_a6926a54_20d4_11ea_8515_dc719676e507row3_col10\" class=\"data row3 col10\" >0.042</td>\n",
       "                        <td id=\"T_a6926a54_20d4_11ea_8515_dc719676e507row3_col11\" class=\"data row3 col11\" >0.014</td>\n",
       "            </tr>\n",
       "            <tr>\n",
       "                        <th id=\"T_a6926a54_20d4_11ea_8515_dc719676e507level0_row4\" class=\"row_heading level0 row4\" >chlorides</th>\n",
       "                        <td id=\"T_a6926a54_20d4_11ea_8515_dc719676e507row4_col0\" class=\"data row4 col0\" >0.094</td>\n",
       "                        <td id=\"T_a6926a54_20d4_11ea_8515_dc719676e507row4_col1\" class=\"data row4 col1\" >0.061</td>\n",
       "                        <td id=\"T_a6926a54_20d4_11ea_8515_dc719676e507row4_col2\" class=\"data row4 col2\" >0.2</td>\n",
       "                        <td id=\"T_a6926a54_20d4_11ea_8515_dc719676e507row4_col3\" class=\"data row4 col3\" >0.056</td>\n",
       "                        <td id=\"T_a6926a54_20d4_11ea_8515_dc719676e507row4_col4\" class=\"data row4 col4\" >1</td>\n",
       "                        <td id=\"T_a6926a54_20d4_11ea_8515_dc719676e507row4_col5\" class=\"data row4 col5\" >0.0056</td>\n",
       "                        <td id=\"T_a6926a54_20d4_11ea_8515_dc719676e507row4_col6\" class=\"data row4 col6\" >0.047</td>\n",
       "                        <td id=\"T_a6926a54_20d4_11ea_8515_dc719676e507row4_col7\" class=\"data row4 col7\" >0.2</td>\n",
       "                        <td id=\"T_a6926a54_20d4_11ea_8515_dc719676e507row4_col8\" class=\"data row4 col8\" >-0.27</td>\n",
       "                        <td id=\"T_a6926a54_20d4_11ea_8515_dc719676e507row4_col9\" class=\"data row4 col9\" >0.37</td>\n",
       "                        <td id=\"T_a6926a54_20d4_11ea_8515_dc719676e507row4_col10\" class=\"data row4 col10\" >-0.22</td>\n",
       "                        <td id=\"T_a6926a54_20d4_11ea_8515_dc719676e507row4_col11\" class=\"data row4 col11\" >-0.13</td>\n",
       "            </tr>\n",
       "            <tr>\n",
       "                        <th id=\"T_a6926a54_20d4_11ea_8515_dc719676e507level0_row5\" class=\"row_heading level0 row5\" >free sulfur dioxide</th>\n",
       "                        <td id=\"T_a6926a54_20d4_11ea_8515_dc719676e507row5_col0\" class=\"data row5 col0\" >-0.15</td>\n",
       "                        <td id=\"T_a6926a54_20d4_11ea_8515_dc719676e507row5_col1\" class=\"data row5 col1\" >-0.011</td>\n",
       "                        <td id=\"T_a6926a54_20d4_11ea_8515_dc719676e507row5_col2\" class=\"data row5 col2\" >-0.061</td>\n",
       "                        <td id=\"T_a6926a54_20d4_11ea_8515_dc719676e507row5_col3\" class=\"data row5 col3\" >0.19</td>\n",
       "                        <td id=\"T_a6926a54_20d4_11ea_8515_dc719676e507row5_col4\" class=\"data row5 col4\" >0.0056</td>\n",
       "                        <td id=\"T_a6926a54_20d4_11ea_8515_dc719676e507row5_col5\" class=\"data row5 col5\" >1</td>\n",
       "                        <td id=\"T_a6926a54_20d4_11ea_8515_dc719676e507row5_col6\" class=\"data row5 col6\" >0.67</td>\n",
       "                        <td id=\"T_a6926a54_20d4_11ea_8515_dc719676e507row5_col7\" class=\"data row5 col7\" >-0.022</td>\n",
       "                        <td id=\"T_a6926a54_20d4_11ea_8515_dc719676e507row5_col8\" class=\"data row5 col8\" >0.07</td>\n",
       "                        <td id=\"T_a6926a54_20d4_11ea_8515_dc719676e507row5_col9\" class=\"data row5 col9\" >0.052</td>\n",
       "                        <td id=\"T_a6926a54_20d4_11ea_8515_dc719676e507row5_col10\" class=\"data row5 col10\" >-0.069</td>\n",
       "                        <td id=\"T_a6926a54_20d4_11ea_8515_dc719676e507row5_col11\" class=\"data row5 col11\" >-0.051</td>\n",
       "            </tr>\n",
       "            <tr>\n",
       "                        <th id=\"T_a6926a54_20d4_11ea_8515_dc719676e507level0_row6\" class=\"row_heading level0 row6\" >total sulfur dioxide</th>\n",
       "                        <td id=\"T_a6926a54_20d4_11ea_8515_dc719676e507row6_col0\" class=\"data row6 col0\" >-0.11</td>\n",
       "                        <td id=\"T_a6926a54_20d4_11ea_8515_dc719676e507row6_col1\" class=\"data row6 col1\" >0.076</td>\n",
       "                        <td id=\"T_a6926a54_20d4_11ea_8515_dc719676e507row6_col2\" class=\"data row6 col2\" >0.036</td>\n",
       "                        <td id=\"T_a6926a54_20d4_11ea_8515_dc719676e507row6_col3\" class=\"data row6 col3\" >0.2</td>\n",
       "                        <td id=\"T_a6926a54_20d4_11ea_8515_dc719676e507row6_col4\" class=\"data row6 col4\" >0.047</td>\n",
       "                        <td id=\"T_a6926a54_20d4_11ea_8515_dc719676e507row6_col5\" class=\"data row6 col5\" >0.67</td>\n",
       "                        <td id=\"T_a6926a54_20d4_11ea_8515_dc719676e507row6_col6\" class=\"data row6 col6\" >1</td>\n",
       "                        <td id=\"T_a6926a54_20d4_11ea_8515_dc719676e507row6_col7\" class=\"data row6 col7\" >0.071</td>\n",
       "                        <td id=\"T_a6926a54_20d4_11ea_8515_dc719676e507row6_col8\" class=\"data row6 col8\" >-0.066</td>\n",
       "                        <td id=\"T_a6926a54_20d4_11ea_8515_dc719676e507row6_col9\" class=\"data row6 col9\" >0.043</td>\n",
       "                        <td id=\"T_a6926a54_20d4_11ea_8515_dc719676e507row6_col10\" class=\"data row6 col10\" >-0.21</td>\n",
       "                        <td id=\"T_a6926a54_20d4_11ea_8515_dc719676e507row6_col11\" class=\"data row6 col11\" >-0.19</td>\n",
       "            </tr>\n",
       "            <tr>\n",
       "                        <th id=\"T_a6926a54_20d4_11ea_8515_dc719676e507level0_row7\" class=\"row_heading level0 row7\" >density</th>\n",
       "                        <td id=\"T_a6926a54_20d4_11ea_8515_dc719676e507row7_col0\" class=\"data row7 col0\" >0.67</td>\n",
       "                        <td id=\"T_a6926a54_20d4_11ea_8515_dc719676e507row7_col1\" class=\"data row7 col1\" >0.022</td>\n",
       "                        <td id=\"T_a6926a54_20d4_11ea_8515_dc719676e507row7_col2\" class=\"data row7 col2\" >0.36</td>\n",
       "                        <td id=\"T_a6926a54_20d4_11ea_8515_dc719676e507row7_col3\" class=\"data row7 col3\" >0.36</td>\n",
       "                        <td id=\"T_a6926a54_20d4_11ea_8515_dc719676e507row7_col4\" class=\"data row7 col4\" >0.2</td>\n",
       "                        <td id=\"T_a6926a54_20d4_11ea_8515_dc719676e507row7_col5\" class=\"data row7 col5\" >-0.022</td>\n",
       "                        <td id=\"T_a6926a54_20d4_11ea_8515_dc719676e507row7_col6\" class=\"data row7 col6\" >0.071</td>\n",
       "                        <td id=\"T_a6926a54_20d4_11ea_8515_dc719676e507row7_col7\" class=\"data row7 col7\" >1</td>\n",
       "                        <td id=\"T_a6926a54_20d4_11ea_8515_dc719676e507row7_col8\" class=\"data row7 col8\" >-0.34</td>\n",
       "                        <td id=\"T_a6926a54_20d4_11ea_8515_dc719676e507row7_col9\" class=\"data row7 col9\" >0.15</td>\n",
       "                        <td id=\"T_a6926a54_20d4_11ea_8515_dc719676e507row7_col10\" class=\"data row7 col10\" >-0.5</td>\n",
       "                        <td id=\"T_a6926a54_20d4_11ea_8515_dc719676e507row7_col11\" class=\"data row7 col11\" >-0.17</td>\n",
       "            </tr>\n",
       "            <tr>\n",
       "                        <th id=\"T_a6926a54_20d4_11ea_8515_dc719676e507level0_row8\" class=\"row_heading level0 row8\" >pH</th>\n",
       "                        <td id=\"T_a6926a54_20d4_11ea_8515_dc719676e507row8_col0\" class=\"data row8 col0\" >-0.68</td>\n",
       "                        <td id=\"T_a6926a54_20d4_11ea_8515_dc719676e507row8_col1\" class=\"data row8 col1\" >0.23</td>\n",
       "                        <td id=\"T_a6926a54_20d4_11ea_8515_dc719676e507row8_col2\" class=\"data row8 col2\" >-0.54</td>\n",
       "                        <td id=\"T_a6926a54_20d4_11ea_8515_dc719676e507row8_col3\" class=\"data row8 col3\" >-0.086</td>\n",
       "                        <td id=\"T_a6926a54_20d4_11ea_8515_dc719676e507row8_col4\" class=\"data row8 col4\" >-0.27</td>\n",
       "                        <td id=\"T_a6926a54_20d4_11ea_8515_dc719676e507row8_col5\" class=\"data row8 col5\" >0.07</td>\n",
       "                        <td id=\"T_a6926a54_20d4_11ea_8515_dc719676e507row8_col6\" class=\"data row8 col6\" >-0.066</td>\n",
       "                        <td id=\"T_a6926a54_20d4_11ea_8515_dc719676e507row8_col7\" class=\"data row8 col7\" >-0.34</td>\n",
       "                        <td id=\"T_a6926a54_20d4_11ea_8515_dc719676e507row8_col8\" class=\"data row8 col8\" >1</td>\n",
       "                        <td id=\"T_a6926a54_20d4_11ea_8515_dc719676e507row8_col9\" class=\"data row8 col9\" >-0.2</td>\n",
       "                        <td id=\"T_a6926a54_20d4_11ea_8515_dc719676e507row8_col10\" class=\"data row8 col10\" >0.21</td>\n",
       "                        <td id=\"T_a6926a54_20d4_11ea_8515_dc719676e507row8_col11\" class=\"data row8 col11\" >-0.058</td>\n",
       "            </tr>\n",
       "            <tr>\n",
       "                        <th id=\"T_a6926a54_20d4_11ea_8515_dc719676e507level0_row9\" class=\"row_heading level0 row9\" >sulphates</th>\n",
       "                        <td id=\"T_a6926a54_20d4_11ea_8515_dc719676e507row9_col0\" class=\"data row9 col0\" >0.18</td>\n",
       "                        <td id=\"T_a6926a54_20d4_11ea_8515_dc719676e507row9_col1\" class=\"data row9 col1\" >-0.26</td>\n",
       "                        <td id=\"T_a6926a54_20d4_11ea_8515_dc719676e507row9_col2\" class=\"data row9 col2\" >0.31</td>\n",
       "                        <td id=\"T_a6926a54_20d4_11ea_8515_dc719676e507row9_col3\" class=\"data row9 col3\" >0.0055</td>\n",
       "                        <td id=\"T_a6926a54_20d4_11ea_8515_dc719676e507row9_col4\" class=\"data row9 col4\" >0.37</td>\n",
       "                        <td id=\"T_a6926a54_20d4_11ea_8515_dc719676e507row9_col5\" class=\"data row9 col5\" >0.052</td>\n",
       "                        <td id=\"T_a6926a54_20d4_11ea_8515_dc719676e507row9_col6\" class=\"data row9 col6\" >0.043</td>\n",
       "                        <td id=\"T_a6926a54_20d4_11ea_8515_dc719676e507row9_col7\" class=\"data row9 col7\" >0.15</td>\n",
       "                        <td id=\"T_a6926a54_20d4_11ea_8515_dc719676e507row9_col8\" class=\"data row9 col8\" >-0.2</td>\n",
       "                        <td id=\"T_a6926a54_20d4_11ea_8515_dc719676e507row9_col9\" class=\"data row9 col9\" >1</td>\n",
       "                        <td id=\"T_a6926a54_20d4_11ea_8515_dc719676e507row9_col10\" class=\"data row9 col10\" >0.094</td>\n",
       "                        <td id=\"T_a6926a54_20d4_11ea_8515_dc719676e507row9_col11\" class=\"data row9 col11\" >0.25</td>\n",
       "            </tr>\n",
       "            <tr>\n",
       "                        <th id=\"T_a6926a54_20d4_11ea_8515_dc719676e507level0_row10\" class=\"row_heading level0 row10\" >alcohol</th>\n",
       "                        <td id=\"T_a6926a54_20d4_11ea_8515_dc719676e507row10_col0\" class=\"data row10 col0\" >-0.062</td>\n",
       "                        <td id=\"T_a6926a54_20d4_11ea_8515_dc719676e507row10_col1\" class=\"data row10 col1\" >-0.2</td>\n",
       "                        <td id=\"T_a6926a54_20d4_11ea_8515_dc719676e507row10_col2\" class=\"data row10 col2\" >0.11</td>\n",
       "                        <td id=\"T_a6926a54_20d4_11ea_8515_dc719676e507row10_col3\" class=\"data row10 col3\" >0.042</td>\n",
       "                        <td id=\"T_a6926a54_20d4_11ea_8515_dc719676e507row10_col4\" class=\"data row10 col4\" >-0.22</td>\n",
       "                        <td id=\"T_a6926a54_20d4_11ea_8515_dc719676e507row10_col5\" class=\"data row10 col5\" >-0.069</td>\n",
       "                        <td id=\"T_a6926a54_20d4_11ea_8515_dc719676e507row10_col6\" class=\"data row10 col6\" >-0.21</td>\n",
       "                        <td id=\"T_a6926a54_20d4_11ea_8515_dc719676e507row10_col7\" class=\"data row10 col7\" >-0.5</td>\n",
       "                        <td id=\"T_a6926a54_20d4_11ea_8515_dc719676e507row10_col8\" class=\"data row10 col8\" >0.21</td>\n",
       "                        <td id=\"T_a6926a54_20d4_11ea_8515_dc719676e507row10_col9\" class=\"data row10 col9\" >0.094</td>\n",
       "                        <td id=\"T_a6926a54_20d4_11ea_8515_dc719676e507row10_col10\" class=\"data row10 col10\" >1</td>\n",
       "                        <td id=\"T_a6926a54_20d4_11ea_8515_dc719676e507row10_col11\" class=\"data row10 col11\" >0.48</td>\n",
       "            </tr>\n",
       "            <tr>\n",
       "                        <th id=\"T_a6926a54_20d4_11ea_8515_dc719676e507level0_row11\" class=\"row_heading level0 row11\" >quality</th>\n",
       "                        <td id=\"T_a6926a54_20d4_11ea_8515_dc719676e507row11_col0\" class=\"data row11 col0\" >0.12</td>\n",
       "                        <td id=\"T_a6926a54_20d4_11ea_8515_dc719676e507row11_col1\" class=\"data row11 col1\" >-0.39</td>\n",
       "                        <td id=\"T_a6926a54_20d4_11ea_8515_dc719676e507row11_col2\" class=\"data row11 col2\" >0.23</td>\n",
       "                        <td id=\"T_a6926a54_20d4_11ea_8515_dc719676e507row11_col3\" class=\"data row11 col3\" >0.014</td>\n",
       "                        <td id=\"T_a6926a54_20d4_11ea_8515_dc719676e507row11_col4\" class=\"data row11 col4\" >-0.13</td>\n",
       "                        <td id=\"T_a6926a54_20d4_11ea_8515_dc719676e507row11_col5\" class=\"data row11 col5\" >-0.051</td>\n",
       "                        <td id=\"T_a6926a54_20d4_11ea_8515_dc719676e507row11_col6\" class=\"data row11 col6\" >-0.19</td>\n",
       "                        <td id=\"T_a6926a54_20d4_11ea_8515_dc719676e507row11_col7\" class=\"data row11 col7\" >-0.17</td>\n",
       "                        <td id=\"T_a6926a54_20d4_11ea_8515_dc719676e507row11_col8\" class=\"data row11 col8\" >-0.058</td>\n",
       "                        <td id=\"T_a6926a54_20d4_11ea_8515_dc719676e507row11_col9\" class=\"data row11 col9\" >0.25</td>\n",
       "                        <td id=\"T_a6926a54_20d4_11ea_8515_dc719676e507row11_col10\" class=\"data row11 col10\" >0.48</td>\n",
       "                        <td id=\"T_a6926a54_20d4_11ea_8515_dc719676e507row11_col11\" class=\"data row11 col11\" >1</td>\n",
       "            </tr>\n",
       "    </tbody></table>"
      ],
      "text/plain": [
       "<pandas.io.formats.style.Styler at 0x227c32c6388>"
      ]
     },
     "execution_count": 4,
     "metadata": {},
     "output_type": "execute_result"
    }
   ],
   "source": [
    "corr = db.corr()\n",
    "cm = sns.diverging_palette(220, 20, sep=20, as_cmap=True)\n",
    "corr.style.background_gradient(cmap=cm).set_precision(2)"
   ]
  },
  {
   "cell_type": "markdown",
   "metadata": {},
   "source": [
    "Из таблицы видно, что линейные зависимости со значением корреляции 1 отсутсвуют. При этом имеются корреляции на значимом уровне. \n"
   ]
  },
  {
   "cell_type": "markdown",
   "metadata": {},
   "source": [
    "Для оценки корреляции величин, вычленим из таблицы корреляции значения, которые по модулю больше установленного предела (значимого уровня)"
   ]
  },
  {
   "cell_type": "code",
   "execution_count": 5,
   "metadata": {},
   "outputs": [],
   "source": [
    "def CorrTable(corr,lim):\n",
    "    _first_attr=[]\n",
    "    _second_attr=[]\n",
    "    _corr_coff=[]\n",
    "    for i in corr.columns:\n",
    "        for j in corr.columns:\n",
    "            if np.abs(corr[i][j])>=lim and corr[i][j]!=1 and j not in _first_attr:\n",
    "                _first_attr.append(i)\n",
    "                _second_attr.append(j)\n",
    "                _corr_coff.append(corr[i][j])\n",
    "    corrDF=pd.DataFrame({'first attribute':_first_attr, 'second attribute':_second_attr, 'correlation':_corr_coff})\n",
    "    return corrDF"
   ]
  },
  {
   "cell_type": "code",
   "execution_count": 6,
   "metadata": {
    "scrolled": true
   },
   "outputs": [
    {
     "data": {
      "text/html": [
       "<div>\n",
       "<style scoped>\n",
       "    .dataframe tbody tr th:only-of-type {\n",
       "        vertical-align: middle;\n",
       "    }\n",
       "\n",
       "    .dataframe tbody tr th {\n",
       "        vertical-align: top;\n",
       "    }\n",
       "\n",
       "    .dataframe thead th {\n",
       "        text-align: right;\n",
       "    }\n",
       "</style>\n",
       "<table border=\"1\" class=\"dataframe\">\n",
       "  <thead>\n",
       "    <tr style=\"text-align: right;\">\n",
       "      <th></th>\n",
       "      <th>first attribute</th>\n",
       "      <th>second attribute</th>\n",
       "      <th>correlation</th>\n",
       "    </tr>\n",
       "  </thead>\n",
       "  <tbody>\n",
       "    <tr>\n",
       "      <td>0</td>\n",
       "      <td>fixed acidity</td>\n",
       "      <td>citric acid</td>\n",
       "      <td>0.671703</td>\n",
       "    </tr>\n",
       "    <tr>\n",
       "      <td>1</td>\n",
       "      <td>fixed acidity</td>\n",
       "      <td>density</td>\n",
       "      <td>0.668047</td>\n",
       "    </tr>\n",
       "    <tr>\n",
       "      <td>2</td>\n",
       "      <td>fixed acidity</td>\n",
       "      <td>pH</td>\n",
       "      <td>-0.682978</td>\n",
       "    </tr>\n",
       "    <tr>\n",
       "      <td>3</td>\n",
       "      <td>free sulfur dioxide</td>\n",
       "      <td>total sulfur dioxide</td>\n",
       "      <td>0.667666</td>\n",
       "    </tr>\n",
       "  </tbody>\n",
       "</table>\n",
       "</div>"
      ],
      "text/plain": [
       "       first attribute      second attribute  correlation\n",
       "0        fixed acidity           citric acid     0.671703\n",
       "1        fixed acidity               density     0.668047\n",
       "2        fixed acidity                    pH    -0.682978\n",
       "3  free sulfur dioxide  total sulfur dioxide     0.667666"
      ]
     },
     "execution_count": 6,
     "metadata": {},
     "output_type": "execute_result"
    }
   ],
   "source": [
    "CorrTable(corr,0.6)"
   ]
  },
  {
   "cell_type": "markdown",
   "metadata": {},
   "source": [
    "Из таблицы  видно, что при установленном пределе коэффициента корреляции 0.6, прямая зависимость наблюдается у трех пар, обратная у одной пары значений.\n",
    "\n",
    "Значения коэффициентов корреляции ни в одном случае не превышают 0.7, поэтому предположим, что нет таких пар признаков, которые настолько сильно коррелировали бы между друг другом, чтобы можно было говорить об их линейной зависимости. Следовательно исключать какой-либо признак из модели линейной регресии не будем.   \n",
    "\n",
    "Примечательно, что нет ни одного фактора, сильно коррелирующего со значением качества вина"
   ]
  },
  {
   "cell_type": "markdown",
   "metadata": {},
   "source": [
    "__Оценим корреляцию признаков со значением \"качество вина\". Определим признаки с низкой корреляцией__"
   ]
  },
  {
   "cell_type": "code",
   "execution_count": 7,
   "metadata": {},
   "outputs": [
    {
     "data": {
      "text/plain": [
       "fixed acidity           0.124052\n",
       "volatile acidity       -0.390558\n",
       "citric acid             0.226373\n",
       "residual sugar          0.013732\n",
       "chlorides              -0.128907\n",
       "free sulfur dioxide    -0.050656\n",
       "total sulfur dioxide   -0.185100\n",
       "density                -0.174919\n",
       "pH                     -0.057731\n",
       "sulphates               0.251397\n",
       "alcohol                 0.476166\n",
       "Name: quality, dtype: float64"
      ]
     },
     "execution_count": 7,
     "metadata": {},
     "output_type": "execute_result"
    }
   ],
   "source": [
    "correlations = db.corr()['quality'].drop('quality')\n",
    "correlations"
   ]
  },
  {
   "cell_type": "code",
   "execution_count": 8,
   "metadata": {},
   "outputs": [
    {
     "data": {
      "image/png": "[encoded data removed]",
      "text/plain": [
       "<Figure size 1280x800 with 1 Axes>"
      ]
     },
     "metadata": {
      "needs_background": "light"
     },
     "output_type": "display_data"
    }
   ],
   "source": [
    "# Рисуем график\n",
    "fig, ax = plt.subplots(figsize=(16,10), dpi=80)\n",
    "ax.vlines(x=corr.index, ymin=0, ymax=corr['quality'], color='firebrick', alpha=0.7, linewidth=2)\n",
    "ax.scatter(corr.index, corr['quality'],s=75, color='firebrick', alpha=0.7)\n",
    "\n",
    "#Задаем пределы по оси х и у\n",
    "ax.set_ylim(-0.5, 1.1)\n",
    "ax.set_xlim(-1, 12)\n",
    "\n",
    "# Задаем название, задаем отображение вертикальных линий\n",
    "ax.set_title('Коэффициенты корреляции с параметром \"Качество вина\"', fontdict={'size':22})\n",
    "ax.set_xticks(corr.index)\n",
    "\n",
    "#Отображаем горизонтальные линии коэффициента корреляции не больше 0.1\n",
    "ax.hlines(0,-1, 12, 'grey', linewidth=0.5)\n",
    "ax.hlines(0.1,-1, 12)\n",
    "ax.hlines(-0.1,-1, 12)\n",
    "ax.text(6,0.1+0.05,'Предел коэффициента корреляции 0.1', horizontalalignment='center', fontsize=14)\n",
    "ax.text(6,-0.2-0.05,'Предел коэффициента корреляции -0.1', horizontalalignment='center', fontsize=14)\n",
    "\n",
    "\n",
    "plt.show()"
   ]
  },
  {
   "cell_type": "code",
   "execution_count": 9,
   "metadata": {},
   "outputs": [
    {
     "data": {
      "text/plain": [
       "residual sugar         0.013732\n",
       "free sulfur dioxide   -0.050656\n",
       "pH                    -0.057731\n",
       "Name: quality, dtype: float64"
      ]
     },
     "execution_count": 9,
     "metadata": {},
     "output_type": "execute_result"
    }
   ],
   "source": [
    "corr.loc[np.abs(corr['quality'])<0.1, 'quality']"
   ]
  },
  {
   "cell_type": "markdown",
   "metadata": {},
   "source": [
    "Из графика видно, что три признака 'residual sugar', 'free sulfur dioxide', 'pH' имеют коэффициент коррелиции с признаком \"качество вина\" меньше 0.1. Данные признаки предлагаю не учитывать в модели линейной регрессии"
   ]
  },
  {
   "cell_type": "code",
   "execution_count": 10,
   "metadata": {},
   "outputs": [
    {
     "data": {
      "text/plain": [
       "Index(['fixed acidity', 'volatile acidity', 'citric acid', 'chlorides',\n",
       "       'total sulfur dioxide', 'density', 'sulphates', 'alcohol'],\n",
       "      dtype='object')"
      ]
     },
     "execution_count": 10,
     "metadata": {},
     "output_type": "execute_result"
    }
   ],
   "source": [
    "linear_indexes=corr.loc[np.abs(corr['quality'])>=0.1].index.drop('quality')\n",
    "linear_indexes"
   ]
  },
  {
   "cell_type": "markdown",
   "metadata": {},
   "source": [
    "Разделим признаки на независимые и один зависимый - качество вина\n"
   ]
  },
  {
   "cell_type": "code",
   "execution_count": 11,
   "metadata": {},
   "outputs": [],
   "source": [
    "dependent=['quality']\n",
    "independent=['fixed acidity', 'volatile acidity', 'citric acid', 'residual sugar',\n",
    "       'chlorides', 'free sulfur dioxide', 'total sulfur dioxide', 'density',\n",
    "       'pH', 'sulphates', 'alcohol']"
   ]
  },
  {
   "cell_type": "markdown",
   "metadata": {},
   "source": [
    "Построим гистограмму распределения зависимого признака  'качество вина'"
   ]
  },
  {
   "cell_type": "code",
   "execution_count": 12,
   "metadata": {},
   "outputs": [
    {
     "data": {
      "image/png": "[encoded data removed]",
      "text/plain": [
       "<Figure size 432x288 with 1 Axes>"
      ]
     },
     "metadata": {
      "needs_background": "light"
     },
     "output_type": "display_data"
    }
   ],
   "source": [
    "# Строим гистограмму распределения признака \"качество вина\"\n",
    "plt.hist(db['quality'], bins=5, edgecolor='black', linewidth=1.2)\n",
    "#Строим график распределения значений качества вина\n",
    "x=np.linspace(3,8,6)\n",
    "y=np.zeros(6)\n",
    "for i in range(6):\n",
    "    y[i]=db.loc[db['quality']==x[i],'quality'].count()\n",
    "#задаем смещение значений х на 0,5 единиц вправо для корректного отображения на графике\n",
    "x=x+0.5\n",
    "plt.plot(x,y,'red')\n",
    "plt.title('Распределение признака \"Качество вина\"')\n",
    "plt.show()"
   ]
  },
  {
   "cell_type": "markdown",
   "metadata": {},
   "source": [
    "Из графика распределения признака \"Качество вина\" видно, что данный признак дискретный и принимает значения от 3 до 8 с шагом 1. \n",
    "Однозначно сказать, что данный график имеет нормально распределение затруднительно. Поэтому необходимо проверить гипотезу о нормальности распределения признака \"качество вина\".\n",
    "\n",
    "Построим гистограммы распределения для независимых признаков"
   ]
  },
  {
   "cell_type": "code",
   "execution_count": 13,
   "metadata": {},
   "outputs": [
    {
     "data": {
      "image/png": "[encoded data removed]",
      "text/plain": [
       "<Figure size 1080x1080 with 12 Axes>"
      ]
     },
     "metadata": {
      "needs_background": "light"
     },
     "output_type": "display_data"
    }
   ],
   "source": [
    "fig, ax = plt.subplots(nrows=4, ncols=3)\n",
    "axf = ax.flatten()\n",
    "for i,variable in enumerate(independent):\n",
    "    axf[i].hist(db[variable],bins=100)\n",
    "    axf[i].set_title(f'Гистограмма {variable}')\n",
    "fig.set_size_inches(15,15)\n",
    "plt.subplots_adjust(wspace=0.5,hspace=1)\n",
    "\n"
   ]
  },
  {
   "cell_type": "markdown",
   "metadata": {},
   "source": [
    "Гистограммы распределения показывают приближенные к нормальным распределения, за исключением  citric acid,  где наблюдается значительное количество приближенных к нулю значений. "
   ]
  },
  {
   "cell_type": "markdown",
   "metadata": {},
   "source": [
    "Построим boxplot (ящик с усами) для независимых признаков"
   ]
  },
  {
   "cell_type": "code",
   "execution_count": 14,
   "metadata": {},
   "outputs": [
    {
     "data": {
      "image/png": "[encoded data removed]",
      "text/plain": [
       "<Figure size 720x1080 with 12 Axes>"
      ]
     },
     "metadata": {
      "needs_background": "light"
     },
     "output_type": "display_data"
    }
   ],
   "source": [
    "fig, ax = plt.subplots(nrows=4, ncols=3)\n",
    "axf = ax.flatten()\n",
    "for i,variable in enumerate(independent):\n",
    "    axf[i].boxplot(db[variable])\n",
    "    axf[i].set_title(f'Гистограмма {variable}')\n",
    "fig.set_size_inches(10,15)\n",
    "plt.subplots_adjust(wspace=0.5,hspace=0.5)"
   ]
  },
  {
   "cell_type": "markdown",
   "metadata": {},
   "source": [
    "Из графиков boxplot видно, что для признаков  'residual sugar' и 'chlorides' интерквантильный размах IQR между первым и третьим квартилем находятся в узком диапазоне 1.9-2.6 и 0.07 - 0.09 соответственно, при этом наблюдается значительное количество \"выбросов\" - значений более +1.5 IQR, что связано с узким IQR.\n"
   ]
  },
  {
   "cell_type": "markdown",
   "metadata": {},
   "source": [
    "Проверим отдельно выбросы признаков"
   ]
  },
  {
   "cell_type": "code",
   "execution_count": 15,
   "metadata": {},
   "outputs": [
    {
     "data": {
      "text/html": [
       "<div>\n",
       "<style scoped>\n",
       "    .dataframe tbody tr th:only-of-type {\n",
       "        vertical-align: middle;\n",
       "    }\n",
       "\n",
       "    .dataframe tbody tr th {\n",
       "        vertical-align: top;\n",
       "    }\n",
       "\n",
       "    .dataframe thead th {\n",
       "        text-align: right;\n",
       "    }\n",
       "</style>\n",
       "<table border=\"1\" class=\"dataframe\">\n",
       "  <thead>\n",
       "    <tr style=\"text-align: right;\">\n",
       "      <th></th>\n",
       "      <th>выбросы признака</th>\n",
       "      <th>ниже -1.5IQR, шт.</th>\n",
       "      <th>выше +1.5IQR, шт.</th>\n",
       "    </tr>\n",
       "  </thead>\n",
       "  <tbody>\n",
       "    <tr>\n",
       "      <td>0</td>\n",
       "      <td>fixed acidity</td>\n",
       "      <td>0</td>\n",
       "      <td>49</td>\n",
       "    </tr>\n",
       "    <tr>\n",
       "      <td>1</td>\n",
       "      <td>volatile acidity</td>\n",
       "      <td>0</td>\n",
       "      <td>19</td>\n",
       "    </tr>\n",
       "    <tr>\n",
       "      <td>2</td>\n",
       "      <td>citric acid</td>\n",
       "      <td>0</td>\n",
       "      <td>1</td>\n",
       "    </tr>\n",
       "    <tr>\n",
       "      <td>3</td>\n",
       "      <td>residual sugar</td>\n",
       "      <td>0</td>\n",
       "      <td>155</td>\n",
       "    </tr>\n",
       "    <tr>\n",
       "      <td>4</td>\n",
       "      <td>chlorides</td>\n",
       "      <td>9</td>\n",
       "      <td>103</td>\n",
       "    </tr>\n",
       "    <tr>\n",
       "      <td>5</td>\n",
       "      <td>free sulfur dioxide</td>\n",
       "      <td>0</td>\n",
       "      <td>30</td>\n",
       "    </tr>\n",
       "    <tr>\n",
       "      <td>6</td>\n",
       "      <td>total sulfur dioxide</td>\n",
       "      <td>0</td>\n",
       "      <td>55</td>\n",
       "    </tr>\n",
       "    <tr>\n",
       "      <td>7</td>\n",
       "      <td>density</td>\n",
       "      <td>21</td>\n",
       "      <td>24</td>\n",
       "    </tr>\n",
       "    <tr>\n",
       "      <td>8</td>\n",
       "      <td>pH</td>\n",
       "      <td>14</td>\n",
       "      <td>21</td>\n",
       "    </tr>\n",
       "    <tr>\n",
       "      <td>9</td>\n",
       "      <td>sulphates</td>\n",
       "      <td>0</td>\n",
       "      <td>59</td>\n",
       "    </tr>\n",
       "    <tr>\n",
       "      <td>10</td>\n",
       "      <td>alcohol</td>\n",
       "      <td>0</td>\n",
       "      <td>13</td>\n",
       "    </tr>\n",
       "    <tr>\n",
       "      <td>11</td>\n",
       "      <td>quality</td>\n",
       "      <td>10</td>\n",
       "      <td>18</td>\n",
       "    </tr>\n",
       "  </tbody>\n",
       "</table>\n",
       "</div>"
      ],
      "text/plain": [
       "        выбросы признака  ниже -1.5IQR, шт.  выше +1.5IQR, шт.\n",
       "0          fixed acidity                  0                 49\n",
       "1       volatile acidity                  0                 19\n",
       "2            citric acid                  0                  1\n",
       "3         residual sugar                  0                155\n",
       "4              chlorides                  9                103\n",
       "5    free sulfur dioxide                  0                 30\n",
       "6   total sulfur dioxide                  0                 55\n",
       "7                density                 21                 24\n",
       "8                     pH                 14                 21\n",
       "9              sulphates                  0                 59\n",
       "10               alcohol                  0                 13\n",
       "11               quality                 10                 18"
      ]
     },
     "execution_count": 15,
     "metadata": {},
     "output_type": "execute_result"
    }
   ],
   "source": [
    "columns=db.columns\n",
    "name=[]\n",
    "minus=[]\n",
    "plus=[]\n",
    "for i in columns:\n",
    "    q1=np.percentile(db[i],25) #первый квартиль\n",
    "    q3=np.percentile(db[i],75) #третий квартиль\n",
    "    k=1.5 #коэффициент k\n",
    "    name.append(i)\n",
    "    minus.append(db.loc[db[i]<(q1-k*(q3-q1)), i].size)\n",
    "    plus.append(db.loc[db[i]>(q3+k*(q3-q1)), i].size)\n",
    "out_of_IQR=pd.DataFrame({'выбросы признака' : name, 'ниже -1.5IQR, шт.' : minus, 'выше +1.5IQR, шт.': plus})\n",
    "out_of_IQR\n"
   ]
  },
  {
   "cell_type": "markdown",
   "metadata": {},
   "source": [
    "Действительно для 'residual sugar' и 'chlorides' наибольшее количество выбросов 155 и 103 шт. соответственно"
   ]
  },
  {
   "cell_type": "markdown",
   "metadata": {},
   "source": [
    "__Проверка на нормальность__\n",
    "\n",
    "Проверим распределение зависимого признака \"quality\" на нормальность с помощью критерия Колмогорова-Смирнова "
   ]
  },
  {
   "cell_type": "markdown",
   "metadata": {},
   "source": [
    "Проверим распределение зависимого признака \"quality\" на нормальность с помощью критерия Колмогорова-Смирнова "
   ]
  },
  {
   "cell_type": "code",
   "execution_count": 16,
   "metadata": {},
   "outputs": [
    {
     "data": {
      "text/plain": [
       "(5.6360225140712945, 0.8075694397347023, 1599)"
      ]
     },
     "execution_count": 16,
     "metadata": {},
     "output_type": "execute_result"
    }
   ],
   "source": [
    "a = db['quality'].mean()\n",
    "sigma = db['quality'].std(ddof=1)\n",
    "\n",
    "n = db['quality'].shape[0]\n",
    "\n",
    "a, sigma, n"
   ]
  },
  {
   "cell_type": "code",
   "execution_count": 17,
   "metadata": {},
   "outputs": [],
   "source": [
    "def emp(x):\n",
    "    \"\"\"Эмпирическая функция распределения\"\"\"\n",
    "    samples=db['quality']\n",
    "    return samples[samples<=x].size/samples.size"
   ]
  },
  {
   "cell_type": "code",
   "execution_count": 18,
   "metadata": {},
   "outputs": [
    {
     "data": {
      "text/plain": [
       "0.006253908692933083"
      ]
     },
     "execution_count": 18,
     "metadata": {},
     "output_type": "execute_result"
    }
   ],
   "source": [
    "emp(3)"
   ]
  },
  {
   "cell_type": "code",
   "execution_count": 19,
   "metadata": {},
   "outputs": [],
   "source": [
    "# Теоритическая функция распределения\n",
    "cdf=stats.norm(loc=a, scale=sigma).cdf"
   ]
  },
  {
   "cell_type": "markdown",
   "metadata": {},
   "source": [
    "При этом обращаем внимание, что эмпирическая функция распределения строится на целочисленных данных (дискретных, со значениями 3,4,5,6,7,8), а теоретическая функция строится на непрерывных данных"
   ]
  },
  {
   "cell_type": "code",
   "execution_count": 20,
   "metadata": {},
   "outputs": [
    {
     "data": {
      "text/plain": [
       "0.0005489777587522862"
      ]
     },
     "execution_count": 20,
     "metadata": {},
     "output_type": "execute_result"
    }
   ],
   "source": [
    "cdf(3)"
   ]
  },
  {
   "cell_type": "markdown",
   "metadata": {},
   "source": [
    "Строим график модуля разности между эмпирической и теоретической функциями распределения"
   ]
  },
  {
   "cell_type": "code",
   "execution_count": 21,
   "metadata": {
    "scrolled": true
   },
   "outputs": [
    {
     "data": {
      "image/png": "[encoded data removed]",
      "text/plain": [
       "<Figure size 1080x360 with 1 Axes>"
      ]
     },
     "metadata": {
      "needs_background": "light"
     },
     "output_type": "display_data"
    }
   ],
   "source": [
    "x=np.linspace(2,9,10000)\n",
    "y=np.array([np.abs(emp(_)-cdf(_)) for _ in x])\n",
    "plt.figure(figsize=(15,5))\n",
    "plt.plot(x,y)\n",
    "plt.axvline(5.6, color='r')\n",
    "\n",
    "plt.show()"
   ]
  },
  {
   "cell_type": "markdown",
   "metadata": {},
   "source": [
    "Максимум разницы приходится на значение \"5\". <br>\n",
    "Определеним его в численных значениях "
   ]
  },
  {
   "cell_type": "code",
   "execution_count": 22,
   "metadata": {},
   "outputs": [
    {
     "data": {
      "text/plain": [
       "(5.000500050005, 0.24963730223453223)"
      ]
     },
     "execution_count": 22,
     "metadata": {},
     "output_type": "execute_result"
    }
   ],
   "source": [
    "x_max = 0\n",
    "y_max = 0\n",
    "\n",
    "for _x, _y in zip(x, y):\n",
    "    if _y > y_max:\n",
    "        x_max = _x\n",
    "        y_max = _y\n",
    "        \n",
    "x_max, y_max"
   ]
  },
  {
   "cell_type": "markdown",
   "metadata": {},
   "source": [
    "Значение статистики Колмогорова-Смирнова равно 0.24763\n",
    "\n",
    "Определеим критическое значение для уровня значимости 0.05"
   ]
  },
  {
   "cell_type": "code",
   "execution_count": 23,
   "metadata": {},
   "outputs": [
    {
     "data": {
      "text/plain": [
       "0.03050129387021332"
      ]
     },
     "execution_count": 23,
     "metadata": {},
     "output_type": "execute_result"
    }
   ],
   "source": [
    "alpha = 0.05\n",
    "\n",
    "stats.ksone.ppf(1 - alpha, n=n)"
   ]
  },
  {
   "cell_type": "markdown",
   "metadata": {},
   "source": [
    "Так как Значение статистики Колмогорова-Смирнова 0.247 больше критического значения  0.030, то гипотеза о нормальном распределении признака \"качество вина\" отвергается"
   ]
  },
  {
   "cell_type": "markdown",
   "metadata": {},
   "source": [
    "Проверим нормальность распределения остальных признаков. Для этого создадим функцию для оценки нормальности распределения"
   ]
  },
  {
   "cell_type": "code",
   "execution_count": 24,
   "metadata": {},
   "outputs": [],
   "source": [
    "def check_norm(data,column):\n",
    "    \"\"\"функция оценки нормальности распределения выборки\"\"\"\n",
    "    a = data[column].mean()\n",
    "    sigma = data[column].std(ddof=1)\n",
    "    n = data[column].shape[0]\n",
    "    \n",
    "    def emp(x):\n",
    "        \"\"\"Эмпирическая функция распределения\"\"\"\n",
    "        samples=data[column]\n",
    "        return samples[samples<=x].size/samples.size\n",
    "    \n",
    "    \"\"\"Теоритическая функция распределения\"\"\"\n",
    "    cdf=stats.norm(loc=a, scale=sigma).cdf\n",
    "    \n",
    "    x=np.linspace(data[column].min(),data[column].max(),10000)\n",
    "    y=np.array([np.abs(emp(_)-cdf(_)) for _ in x])\n",
    "    \n",
    "    x_max = 0\n",
    "    y_max = 0\n",
    "    for _x, _y in zip(x, y):\n",
    "        if _y > y_max:\n",
    "            x_max = _x\n",
    "            y_max = _y\n",
    "    kolmogorov=y_max\n",
    "    alpha = 0.05\n",
    "    critical=stats.ksone.ppf(1 - alpha, n=n)\n",
    "    return [kolmogorov, critical, kolmogorov<=critical]\n"
   ]
  },
  {
   "cell_type": "markdown",
   "metadata": {},
   "source": [
    "Выведем значения в таблице"
   ]
  },
  {
   "cell_type": "code",
   "execution_count": 25,
   "metadata": {
    "scrolled": true
   },
   "outputs": [
    {
     "data": {
      "text/html": [
       "<div>\n",
       "<style scoped>\n",
       "    .dataframe tbody tr th:only-of-type {\n",
       "        vertical-align: middle;\n",
       "    }\n",
       "\n",
       "    .dataframe tbody tr th {\n",
       "        vertical-align: top;\n",
       "    }\n",
       "\n",
       "    .dataframe thead th {\n",
       "        text-align: right;\n",
       "    }\n",
       "</style>\n",
       "<table border=\"1\" class=\"dataframe\">\n",
       "  <thead>\n",
       "    <tr style=\"text-align: right;\">\n",
       "      <th></th>\n",
       "      <th>Признак</th>\n",
       "      <th>Статистика Колмогорова</th>\n",
       "      <th>Критическое значение</th>\n",
       "      <th>Нормально ли распределение</th>\n",
       "    </tr>\n",
       "  </thead>\n",
       "  <tbody>\n",
       "    <tr>\n",
       "      <td>0</td>\n",
       "      <td>fixed acidity</td>\n",
       "      <td>0.110247</td>\n",
       "      <td>0.030501</td>\n",
       "      <td>False</td>\n",
       "    </tr>\n",
       "    <tr>\n",
       "      <td>1</td>\n",
       "      <td>volatile acidity</td>\n",
       "      <td>0.054403</td>\n",
       "      <td>0.030501</td>\n",
       "      <td>False</td>\n",
       "    </tr>\n",
       "    <tr>\n",
       "      <td>2</td>\n",
       "      <td>citric acid</td>\n",
       "      <td>0.083852</td>\n",
       "      <td>0.030501</td>\n",
       "      <td>False</td>\n",
       "    </tr>\n",
       "    <tr>\n",
       "      <td>3</td>\n",
       "      <td>residual sugar</td>\n",
       "      <td>0.260374</td>\n",
       "      <td>0.030501</td>\n",
       "      <td>False</td>\n",
       "    </tr>\n",
       "    <tr>\n",
       "      <td>4</td>\n",
       "      <td>chlorides</td>\n",
       "      <td>0.259585</td>\n",
       "      <td>0.030501</td>\n",
       "      <td>False</td>\n",
       "    </tr>\n",
       "    <tr>\n",
       "      <td>5</td>\n",
       "      <td>free sulfur dioxide</td>\n",
       "      <td>0.111095</td>\n",
       "      <td>0.030501</td>\n",
       "      <td>False</td>\n",
       "    </tr>\n",
       "    <tr>\n",
       "      <td>6</td>\n",
       "      <td>total sulfur dioxide</td>\n",
       "      <td>0.120732</td>\n",
       "      <td>0.030501</td>\n",
       "      <td>False</td>\n",
       "    </tr>\n",
       "    <tr>\n",
       "      <td>7</td>\n",
       "      <td>density</td>\n",
       "      <td>0.044548</td>\n",
       "      <td>0.030501</td>\n",
       "      <td>False</td>\n",
       "    </tr>\n",
       "    <tr>\n",
       "      <td>8</td>\n",
       "      <td>pH</td>\n",
       "      <td>0.040182</td>\n",
       "      <td>0.030501</td>\n",
       "      <td>False</td>\n",
       "    </tr>\n",
       "    <tr>\n",
       "      <td>9</td>\n",
       "      <td>sulphates</td>\n",
       "      <td>0.124728</td>\n",
       "      <td>0.030501</td>\n",
       "      <td>False</td>\n",
       "    </tr>\n",
       "    <tr>\n",
       "      <td>10</td>\n",
       "      <td>alcohol</td>\n",
       "      <td>0.121294</td>\n",
       "      <td>0.030501</td>\n",
       "      <td>False</td>\n",
       "    </tr>\n",
       "    <tr>\n",
       "      <td>11</td>\n",
       "      <td>quality</td>\n",
       "      <td>0.249746</td>\n",
       "      <td>0.030501</td>\n",
       "      <td>False</td>\n",
       "    </tr>\n",
       "  </tbody>\n",
       "</table>\n",
       "</div>"
      ],
      "text/plain": [
       "                 Признак  Статистика Колмогорова  Критическое значение  \\\n",
       "0          fixed acidity                0.110247              0.030501   \n",
       "1       volatile acidity                0.054403              0.030501   \n",
       "2            citric acid                0.083852              0.030501   \n",
       "3         residual sugar                0.260374              0.030501   \n",
       "4              chlorides                0.259585              0.030501   \n",
       "5    free sulfur dioxide                0.111095              0.030501   \n",
       "6   total sulfur dioxide                0.120732              0.030501   \n",
       "7                density                0.044548              0.030501   \n",
       "8                     pH                0.040182              0.030501   \n",
       "9              sulphates                0.124728              0.030501   \n",
       "10               alcohol                0.121294              0.030501   \n",
       "11               quality                0.249746              0.030501   \n",
       "\n",
       "    Нормально ли распределение  \n",
       "0                        False  \n",
       "1                        False  \n",
       "2                        False  \n",
       "3                        False  \n",
       "4                        False  \n",
       "5                        False  \n",
       "6                        False  \n",
       "7                        False  \n",
       "8                        False  \n",
       "9                        False  \n",
       "10                       False  \n",
       "11                       False  "
      ]
     },
     "execution_count": 25,
     "metadata": {},
     "output_type": "execute_result"
    }
   ],
   "source": [
    "columns=db.columns\n",
    "kmg=[]\n",
    "crt=[]\n",
    "fltr=[]\n",
    "for column in columns:\n",
    "    mid=check_norm(db,column)\n",
    "    kmg.append(mid[0])\n",
    "    crt.append(mid[1])\n",
    "    fltr.append(mid[2])\n",
    "kolmogorov_db=pd.DataFrame({'Признак':columns, 'Статистика Колмогорова':kmg, 'Критическое значение':crt, 'Нормально ли распределение':fltr})\n",
    "kolmogorov_db"
   ]
  },
  {
   "cell_type": "markdown",
   "metadata": {},
   "source": [
    "Таким образом в соответствии с критерием Колмогорова-Смирнова, ни одно из распределений признаков не является нормальным"
   ]
  },
  {
   "cell_type": "markdown",
   "metadata": {},
   "source": [
    "__Модель линейной регрессии__"
   ]
  },
  {
   "cell_type": "markdown",
   "metadata": {},
   "source": [
    "Находим коэффициенты линейной регрессии с помощью метода наименьших квадратов: <br>\n",
    "1. Оставляем только признаки, которые мы определили как значимые"
   ]
  },
  {
   "cell_type": "code",
   "execution_count": 26,
   "metadata": {
    "scrolled": true
   },
   "outputs": [
    {
     "data": {
      "text/plain": [
       "Index(['fixed acidity', 'volatile acidity', 'citric acid', 'chlorides',\n",
       "       'total sulfur dioxide', 'density', 'sulphates', 'alcohol'],\n",
       "      dtype='object')"
      ]
     },
     "execution_count": 26,
     "metadata": {},
     "output_type": "execute_result"
    }
   ],
   "source": [
    "linear_indexes"
   ]
  },
  {
   "cell_type": "code",
   "execution_count": 27,
   "metadata": {},
   "outputs": [],
   "source": [
    "x_values=db[linear_indexes]\n",
    "y=db['quality']"
   ]
  },
  {
   "cell_type": "markdown",
   "metadata": {},
   "source": [
    "2. добавляем столбец х0 с единичными значениями"
   ]
  },
  {
   "cell_type": "code",
   "execution_count": 28,
   "metadata": {
    "scrolled": true
   },
   "outputs": [
    {
     "data": {
      "text/plain": [
       "((1599, 9), (1599,))"
      ]
     },
     "execution_count": 28,
     "metadata": {},
     "output_type": "execute_result"
    }
   ],
   "source": [
    "x0=np.ones(db.shape[0]).reshape(-1,1)\n",
    "X=np.hstack((x0,x_values))\n",
    "X.shape,y.shape"
   ]
  },
  {
   "cell_type": "code",
   "execution_count": 29,
   "metadata": {},
   "outputs": [
    {
     "data": {
      "text/plain": [
       "array([5, 5, 5, ..., 6, 5, 6], dtype=int64)"
      ]
     },
     "execution_count": 29,
     "metadata": {},
     "output_type": "execute_result"
    }
   ],
   "source": [
    "s=np.array(y)\n",
    "s"
   ]
  },
  {
   "cell_type": "markdown",
   "metadata": {},
   "source": [
    "Запишем матрицу $X^\\top X$ и посчитаем её определитель."
   ]
  },
  {
   "cell_type": "code",
   "execution_count": 30,
   "metadata": {},
   "outputs": [
    {
     "data": {
      "text/plain": [
       "4.4079480344426747e+18"
      ]
     },
     "execution_count": 30,
     "metadata": {},
     "output_type": "execute_result"
    }
   ],
   "source": [
    "XTX=X.T.dot(X)\n",
    "np.linalg.det(XTX)"
   ]
  },
  {
   "cell_type": "markdown",
   "metadata": {},
   "source": [
    "Определитель далек от нуля, поэтому вычисляем по аналитическому решению коэффициенты уравнения $y=b_0+b_1\\cdot x_1+...+b_k\\cdot x_k$   "
   ]
  },
  {
   "cell_type": "code",
   "execution_count": 31,
   "metadata": {},
   "outputs": [
    {
     "data": {
      "text/plain": [
       "array([ 2.81645034e+01,  5.47344480e-02, -1.13697338e+00, -1.98204811e-01,\n",
       "       -1.58356481e+00, -1.90657345e-03, -2.55826118e+01,  9.16346134e-01,\n",
       "        2.68000946e-01])"
      ]
     },
     "execution_count": 31,
     "metadata": {},
     "output_type": "execute_result"
    }
   ],
   "source": [
    "XTX_inv=np.linalg.inv(XTX)\n",
    "b=XTX_inv.dot(X.T).dot(y)\n",
    "b"
   ]
  },
  {
   "cell_type": "markdown",
   "metadata": {},
   "source": [
    "Проверяем себя с помощью стандартной функции"
   ]
  },
  {
   "cell_type": "code",
   "execution_count": 32,
   "metadata": {
    "scrolled": true
   },
   "outputs": [
    {
     "data": {
      "text/plain": [
       "(array([ 2.81645034e+01,  5.47344480e-02, -1.13697338e+00, -1.98204811e-01,\n",
       "        -1.58356481e+00, -1.90657345e-03, -2.55826118e+01,  9.16346134e-01,\n",
       "         2.68000946e-01]),\n",
       " array([671.40867716]),\n",
       " 9,\n",
       " array([2.31779627e+03, 3.18321457e+02, 6.19733041e+01, 9.36384528e+00,\n",
       "        6.74338735e+00, 4.16847462e+00, 3.66945296e+00, 1.56250256e+00,\n",
       "        3.04257190e-02]))"
      ]
     },
     "execution_count": 32,
     "metadata": {},
     "output_type": "execute_result"
    }
   ],
   "source": [
    "cx=np.linalg.lstsq(X,y)\n",
    "cx"
   ]
  },
  {
   "cell_type": "markdown",
   "metadata": {},
   "source": [
    "Коэффициенты b совпадают. Следовательно расчет сделан верно. "
   ]
  },
  {
   "cell_type": "markdown",
   "metadata": {},
   "source": [
    "Проверим качество модели линейной регрессии используя коэффициент детерминации . Для этого рассчитаем предсказанное значение z, далее находим дисперсию значения z, и дисперсию реальных значений y. через них находим коэффициент детерминации"
   ]
  },
  {
   "cell_type": "code",
   "execution_count": 33,
   "metadata": {},
   "outputs": [
    {
     "data": {
      "text/plain": [
       "0.355533453585307"
      ]
     },
     "execution_count": 33,
     "metadata": {},
     "output_type": "execute_result"
    }
   ],
   "source": [
    "z=(b*X).sum(axis=1)\n",
    "r2=z.var()/y.var()\n",
    "r2"
   ]
  },
  {
   "cell_type": "markdown",
   "metadata": {},
   "source": [
    "Коэффициент детерминации у нас довольно низкий - это говорит о том, что 64% переменной \"y\" не объясняется моделью."
   ]
  },
  {
   "cell_type": "markdown",
   "metadata": {},
   "source": [
    "Оценим качество модели используя среднюю ошибку апроксимации"
   ]
  },
  {
   "cell_type": "code",
   "execution_count": 34,
   "metadata": {},
   "outputs": [
    {
     "data": {
      "text/plain": [
       "9.241488556109102"
      ]
     },
     "execution_count": 34,
     "metadata": {},
     "output_type": "execute_result"
    }
   ],
   "source": [
    "A=np.abs((y-z)/y).mean()\n",
    "A*100"
   ]
  },
  {
   "cell_type": "markdown",
   "metadata": {},
   "source": [
    "Средняя ошибка апроксимации <=10% говорит о том, что теоретичесие значения z близки к тем, которые выдает модель линейной регрессии"
   ]
  },
  {
   "cell_type": "markdown",
   "metadata": {},
   "source": [
    "Запишем модель линейной регрессии и оценки ее качества в виде функций"
   ]
  },
  {
   "cell_type": "markdown",
   "metadata": {},
   "source": [
    "Выведем угловые коэффициенты "
   ]
  },
  {
   "cell_type": "code",
   "execution_count": 35,
   "metadata": {},
   "outputs": [
    {
     "data": {
      "text/plain": [
       "array(['null', 'fixed acidity', 'volatile acidity', 'citric acid',\n",
       "       'chlorides', 'total sulfur dioxide', 'density', 'sulphates',\n",
       "       'alcohol'], dtype=object)"
      ]
     },
     "execution_count": 35,
     "metadata": {},
     "output_type": "execute_result"
    }
   ],
   "source": [
    "linear_indexes=np.array(linear_indexes)\n",
    "zero=np.array('null')\n",
    "zero=np.append(zero,linear_indexes)\n",
    "zero"
   ]
  },
  {
   "cell_type": "code",
   "execution_count": 36,
   "metadata": {
    "scrolled": true
   },
   "outputs": [
    {
     "data": {
      "text/html": [
       "<div>\n",
       "<style scoped>\n",
       "    .dataframe tbody tr th:only-of-type {\n",
       "        vertical-align: middle;\n",
       "    }\n",
       "\n",
       "    .dataframe tbody tr th {\n",
       "        vertical-align: top;\n",
       "    }\n",
       "\n",
       "    .dataframe thead th {\n",
       "        text-align: right;\n",
       "    }\n",
       "</style>\n",
       "<table border=\"1\" class=\"dataframe\">\n",
       "  <thead>\n",
       "    <tr style=\"text-align: right;\">\n",
       "      <th></th>\n",
       "      <th>угловой коэффициент</th>\n",
       "    </tr>\n",
       "  </thead>\n",
       "  <tbody>\n",
       "    <tr>\n",
       "      <td>null</td>\n",
       "      <td>28.164503</td>\n",
       "    </tr>\n",
       "    <tr>\n",
       "      <td>fixed acidity</td>\n",
       "      <td>0.054734</td>\n",
       "    </tr>\n",
       "    <tr>\n",
       "      <td>volatile acidity</td>\n",
       "      <td>-1.136973</td>\n",
       "    </tr>\n",
       "    <tr>\n",
       "      <td>citric acid</td>\n",
       "      <td>-0.198205</td>\n",
       "    </tr>\n",
       "    <tr>\n",
       "      <td>chlorides</td>\n",
       "      <td>-1.583565</td>\n",
       "    </tr>\n",
       "    <tr>\n",
       "      <td>total sulfur dioxide</td>\n",
       "      <td>-0.001907</td>\n",
       "    </tr>\n",
       "    <tr>\n",
       "      <td>density</td>\n",
       "      <td>-25.582612</td>\n",
       "    </tr>\n",
       "    <tr>\n",
       "      <td>sulphates</td>\n",
       "      <td>0.916346</td>\n",
       "    </tr>\n",
       "    <tr>\n",
       "      <td>alcohol</td>\n",
       "      <td>0.268001</td>\n",
       "    </tr>\n",
       "  </tbody>\n",
       "</table>\n",
       "</div>"
      ],
      "text/plain": [
       "                      угловой коэффициент\n",
       "null                            28.164503\n",
       "fixed acidity                    0.054734\n",
       "volatile acidity                -1.136973\n",
       "citric acid                     -0.198205\n",
       "chlorides                       -1.583565\n",
       "total sulfur dioxide            -0.001907\n",
       "density                        -25.582612\n",
       "sulphates                        0.916346\n",
       "alcohol                          0.268001"
      ]
     },
     "execution_count": 36,
     "metadata": {},
     "output_type": "execute_result"
    }
   ],
   "source": [
    "b_coef=pd.DataFrame(b, zero, columns=['угловой коэффициент'])\n",
    "b_coef"
   ]
  },
  {
   "cell_type": "markdown",
   "metadata": {},
   "source": [
    "__Факторы, которые больше всего влияют на качество вина__ <br>\n",
    "увеличение значения density на 1 уменьшает значение  quality на 25 единиц.<br>\n",
    "__Tаким образом  самый значимый фактор это density__ "
   ]
  },
  {
   "cell_type": "markdown",
   "metadata": {},
   "source": [
    "__Влият ли содержание диоксидов серы на качество вина__<br>\n",
    "Ранее значение  'free sulfur dioxide' было исключено из модели линейной регрессии в связи с низким коэффициентом корреляции. <br>\n",
    "Угловой коэффициент total sulfur dioxide равен -0.001907 и является сравнительно низким. <br>\n",
    "__Таким образом содержание диоксидов серы незначительно влияет на качество вина__"
   ]
  }
 ],
 "metadata": {
  "kernelspec": {
   "display_name": "Python 3",
   "language": "python",
   "name": "python3"
  },
  "language_info": {
   "codemirror_mode": {
    "name": "ipython",
    "version": 3
   },
   "file_extension": ".py",
   "mimetype": "text/x-python",
   "name": "python",
   "nbconvert_exporter": "python",
   "pygments_lexer": "ipython3",
   "version": "3.7.4"
  }
 },
 "nbformat": 4,
 "nbformat_minor": 2
}
