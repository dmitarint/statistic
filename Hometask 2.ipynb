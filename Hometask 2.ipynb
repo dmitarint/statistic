{
 "cells": [
  {
   "cell_type": "markdown",
   "metadata": {},
   "source": [
    "__Задача 1__\n",
    "\n",
    "Контрольная работа состоит из пяти вопросов. На каждый вопрос приведено четыре варианта ответа, один из которых правильный. Составьте закон распределения числа правильных ответов при простом угадывании. Найдите `M(X)`, `D(X)`."
   ]
  },
  {
   "cell_type": "markdown",
   "metadata": {},
   "source": [
    "__Решение__\n",
    "\n",
    "Пусть Х - дискретная случайная величина количества угаданных билетов. Вероятность угадать вопрос $\\dfrac{1}{4}$. Колчество билетов 5. Расчитаем по формуле Бернулли вероятность P(X=0), P(X=1), P(X=2), P(X=3), P(X=4),P(X=5)\n"
   ]
  },
  {
   "cell_type": "code",
   "execution_count": 80,
   "metadata": {},
   "outputs": [],
   "source": [
    "import numpy as np\n",
    "import pandas as pd\n",
    "from matplotlib import pyplot as plt"
   ]
  },
  {
   "cell_type": "code",
   "execution_count": 81,
   "metadata": {},
   "outputs": [],
   "source": [
    "def bernulli(n,k,p):\n",
    "    from math import factorial\n",
    "    C=factorial(n)/(factorial(k)*factorial(n-k))\n",
    "    return C*(p**k)*(1-p)**(n-k)"
   ]
  },
  {
   "cell_type": "code",
   "execution_count": 82,
   "metadata": {},
   "outputs": [],
   "source": [
    "p=0.25\n",
    "n=5\n",
    "R=[]\n",
    "for i in range(n+1):\n",
    "    R.append(bernulli(n,i,p))\n",
    "    R[i]=round(R[i],7)"
   ]
  },
  {
   "cell_type": "code",
   "execution_count": 83,
   "metadata": {},
   "outputs": [],
   "source": [
    "columns=['P(X=0)', 'P(X=1)', 'P(X=2)', 'P(X=3)', 'P(X=4)','P(X=5)']\n",
    "DT=dict.fromkeys(columns)\n",
    "count=0\n",
    "for value in DT:\n",
    "    DT[value]=R[count]\n",
    "    count+=1"
   ]
  },
  {
   "cell_type": "markdown",
   "metadata": {},
   "source": [
    "__Ответ__ \n",
    "\n",
    "Закон распределения числа правильных ответов при простом угадывании:"
   ]
  },
  {
   "cell_type": "code",
   "execution_count": 84,
   "metadata": {
    "scrolled": false
   },
   "outputs": [
    {
     "data": {
      "text/html": [
       "<div>\n",
       "<style scoped>\n",
       "    .dataframe tbody tr th:only-of-type {\n",
       "        vertical-align: middle;\n",
       "    }\n",
       "\n",
       "    .dataframe tbody tr th {\n",
       "        vertical-align: top;\n",
       "    }\n",
       "\n",
       "    .dataframe thead th {\n",
       "        text-align: right;\n",
       "    }\n",
       "</style>\n",
       "<table border=\"1\" class=\"dataframe\">\n",
       "  <thead>\n",
       "    <tr style=\"text-align: right;\">\n",
       "      <th></th>\n",
       "      <th>P(X=0)</th>\n",
       "      <th>P(X=1)</th>\n",
       "      <th>P(X=2)</th>\n",
       "      <th>P(X=3)</th>\n",
       "      <th>P(X=4)</th>\n",
       "      <th>P(X=5)</th>\n",
       "    </tr>\n",
       "  </thead>\n",
       "  <tbody>\n",
       "    <tr>\n",
       "      <th>0</th>\n",
       "      <td>0.237305</td>\n",
       "      <td>0.395508</td>\n",
       "      <td>0.263672</td>\n",
       "      <td>0.087891</td>\n",
       "      <td>0.014648</td>\n",
       "      <td>0.000977</td>\n",
       "    </tr>\n",
       "  </tbody>\n",
       "</table>\n",
       "</div>"
      ],
      "text/plain": [
       "     P(X=0)    P(X=1)    P(X=2)    P(X=3)    P(X=4)    P(X=5)\n",
       "0  0.237305  0.395508  0.263672  0.087891  0.014648  0.000977"
      ]
     },
     "execution_count": 84,
     "metadata": {},
     "output_type": "execute_result"
    }
   ],
   "source": [
    "pd.DataFrame(DT, index=[0])"
   ]
  },
  {
   "cell_type": "code",
   "execution_count": 8,
   "metadata": {
    "scrolled": true
   },
   "outputs": [
    {
     "data": {
      "text/plain": [
       "1.0"
      ]
     },
     "execution_count": 8,
     "metadata": {},
     "output_type": "execute_result"
    }
   ],
   "source": [
    "np.array(R).sum()"
   ]
  },
  {
   "cell_type": "markdown",
   "metadata": {},
   "source": [
    "Найдем M(X) и D(X)"
   ]
  },
  {
   "cell_type": "code",
   "execution_count": 9,
   "metadata": {},
   "outputs": [
    {
     "data": {
      "text/plain": [
       "1.25"
      ]
     },
     "execution_count": 9,
     "metadata": {},
     "output_type": "execute_result"
    }
   ],
   "source": [
    "M=n*p\n",
    "M"
   ]
  },
  {
   "cell_type": "code",
   "execution_count": 10,
   "metadata": {},
   "outputs": [
    {
     "data": {
      "text/plain": [
       "0.9375"
      ]
     },
     "execution_count": 10,
     "metadata": {},
     "output_type": "execute_result"
    }
   ],
   "source": [
    "D=n*p*(1-p)\n",
    "D"
   ]
  },
  {
   "cell_type": "markdown",
   "metadata": {},
   "source": [
    "__Задача 2__\n",
    "\n",
    "Вероятность попадания в цель при одном выстреле равна 0.01. Какова вероятность того, что число попаданий при 200 выстрелах будет не менее 5 и не более 10?"
   ]
  },
  {
   "cell_type": "markdown",
   "metadata": {},
   "source": [
    "__Решение__\n",
    "\n",
    "Пусть X дискретная случайная величина. Вероятность попадания в цель р=0.01. Количество выстрелов n=200. Число попаданий k1=5 и k2=10.\n",
    "Создаем Массив Х в котором рассчитываем поформуле бкернулли вероятность  для каждого числа выстрелов"
   ]
  },
  {
   "cell_type": "code",
   "execution_count": 14,
   "metadata": {},
   "outputs": [
    {
     "data": {
      "text/plain": [
       "[0.03572335672160829,\n",
       " 0.011727364580325954,\n",
       " 0.0032829851783307863,\n",
       " 0.0008000203780528306,\n",
       " 0.000172394963620812,\n",
       " 3.326003843593443e-05]"
      ]
     },
     "execution_count": 14,
     "metadata": {},
     "output_type": "execute_result"
    }
   ],
   "source": [
    "p=0.01\n",
    "n=200\n",
    "k1=5\n",
    "k2=10\n",
    "X=[]\n",
    "for i in range(k1,k2+1):\n",
    "    X.append(bernulli(n,i,p))\n",
    "X"
   ]
  },
  {
   "cell_type": "markdown",
   "metadata": {},
   "source": [
    "__Ответ__\n",
    "\n",
    "Сумма вероятностей количества попаданий от 5 до 10 и есть вероятность того, что число попаданий при 200 выстрелах будет не менее 5 и не более 10 "
   ]
  },
  {
   "cell_type": "code",
   "execution_count": 18,
   "metadata": {},
   "outputs": [
    {
     "data": {
      "text/plain": [
       "0.051739381860374606"
      ]
     },
     "execution_count": 18,
     "metadata": {},
     "output_type": "execute_result"
    }
   ],
   "source": [
    "np.array(X).sum()"
   ]
  },
  {
   "cell_type": "markdown",
   "metadata": {},
   "source": [
    "__Задача 3__\n",
    "\n",
    "В условиях предыдущей задачи сколько выстрелов нужно сделать чтобы быть уверенным с вероятностью 0.9, что хотя бы 10 раз будет совершено попадание?"
   ]
  },
  {
   "cell_type": "markdown",
   "metadata": {},
   "source": [
    "_Подсказка_. Как посчитать `P(X >= k)` для величины `X`, имеющей распределение Пуассона? Здесь предстоит немножко покодить."
   ]
  },
  {
   "cell_type": "markdown",
   "metadata": {},
   "source": [
    "__Решение__\n",
    "\n",
    "Подсчитываем вероятности 10 попаданий при n выстрелах и складываем их до тех пор, пока суммарная вероятность не будет равна или больше 0.9 \n",
    "Находим решение через формулу Бернулли:"
   ]
  },
  {
   "cell_type": "code",
   "execution_count": 75,
   "metadata": {},
   "outputs": [
    {
     "data": {
      "text/plain": [
       "(473, 0.9067353190384637)"
      ]
     },
     "execution_count": 75,
     "metadata": {},
     "output_type": "execute_result"
    }
   ],
   "source": [
    "p=0.01\n",
    "P=0\n",
    "k=10\n",
    "n=10\n",
    "while P<0.9:\n",
    "    P+=bernulli(n,k,p)\n",
    "    n+=1\n",
    "n, P"
   ]
  },
  {
   "cell_type": "markdown",
   "metadata": {},
   "source": [
    "Находим решение через формулу Бернулли. При этом интенсивность $а=n\\cdot p$, и меняется в зависимости от количества выстрелов:"
   ]
  },
  {
   "cell_type": "code",
   "execution_count": 36,
   "metadata": {},
   "outputs": [],
   "source": [
    "from math import factorial\n",
    "def puasson(n,k,p):\n",
    "    return ((n*p)**k)*(np.exp(-n*p))/factorial(k)"
   ]
  },
  {
   "cell_type": "code",
   "execution_count": 76,
   "metadata": {},
   "outputs": [
    {
     "data": {
      "text/plain": [
       "(471, 0.9088382632384054)"
      ]
     },
     "execution_count": 76,
     "metadata": {},
     "output_type": "execute_result"
    }
   ],
   "source": [
    "p=0.01\n",
    "k=10\n",
    "n=10\n",
    "P=0\n",
    "while P<0.9:\n",
    "    P+=puasson(n,k,p)\n",
    "    n+=1\n",
    "n, P"
   ]
  },
  {
   "cell_type": "markdown",
   "metadata": {},
   "source": [
    "__Ответ__\n",
    "\n",
    "По формуле Бернулли n=473\n",
    "\n",
    "По формуле Пуассона n=471"
   ]
  },
  {
   "cell_type": "markdown",
   "metadata": {},
   "source": [
    "__Решение после того, как посмотрел третий урок:__"
   ]
  },
  {
   "cell_type": "code",
   "execution_count": 92,
   "metadata": {},
   "outputs": [],
   "source": [
    "def puasson_le(n,k,p):\n",
    "    return sum(puasson(n,k0,p) for k0 in range(k))"
   ]
  },
  {
   "cell_type": "code",
   "execution_count": 93,
   "metadata": {},
   "outputs": [],
   "source": [
    "def puasson_geq(n,k,p):\n",
    "    return 1-puasson_le(n,k,p)"
   ]
  },
  {
   "cell_type": "code",
   "execution_count": 100,
   "metadata": {},
   "outputs": [
    {
     "name": "stdout",
     "output_type": "stream",
     "text": [
      "200\t4.6498075017109564e-05\n",
      "400\t0.00813224279693403\n",
      "600\t0.08392401699487573\n",
      "800\t0.28337574127298915\n",
      "1000\t0.5420702855281477\n",
      "1200\t0.7576078383294876\n",
      "1400\t0.890600630357261\n",
      "n = 1421\n",
      "proba = 0.9001760722984115\n"
     ]
    }
   ],
   "source": [
    "p=0.01\n",
    "k=10\n",
    "param_n = np.arange(100, 20000)\n",
    "\n",
    "for n in param_n:\n",
    "    proba = puasson_geq(n,k,p)\n",
    "    \n",
    "    if n % 200 == 0:\n",
    "        print(f'{n}\\t{proba}')\n",
    "    \n",
    "    if proba >= 0.9:\n",
    "        break\n",
    "    \n",
    "print(f'n = {n}')\n",
    "print(f'proba = {proba}')"
   ]
  }
 ],
 "metadata": {
  "kernelspec": {
   "display_name": "Python 3",
   "language": "python",
   "name": "python3"
  },
  "language_info": {
   "codemirror_mode": {
    "name": "ipython",
    "version": 3
   },
   "file_extension": ".py",
   "mimetype": "text/x-python",
   "name": "python",
   "nbconvert_exporter": "python",
   "pygments_lexer": "ipython3",
   "version": "3.7.3"
  }
 },
 "nbformat": 4,
 "nbformat_minor": 2
}
