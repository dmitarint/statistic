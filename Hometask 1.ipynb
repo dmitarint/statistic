{
 "cells": [
  {
   "cell_type": "markdown",
   "metadata": {},
   "source": [
    "__Задача 1__\n",
    "\n",
    "Из колоды в 52 карты вынимают случайным образом 4 карты. Найти число исходов, соответствующих тому, что был вытянут хотя бы один туз."
   ]
  },
  {
   "cell_type": "markdown",
   "metadata": {},
   "source": [
    "Событие А\n",
    "\n",
    "А=вероятность, что из 4-х выбранных карт хотя бы один туз \n",
    "\n",
    "Событие $\\overline{A}$ -из 4-х карт ни одного туза\n",
    "\n",
    "Находим общее число исходов выбрать 4 карты из 52"
   ]
  },
  {
   "cell_type": "code",
   "execution_count": 1,
   "metadata": {},
   "outputs": [],
   "source": [
    "from math import factorial\n",
    "def sochet(n,k):\n",
    "    return int(factorial(n)/(factorial(k)*factorial(n-k)))"
   ]
  },
  {
   "cell_type": "code",
   "execution_count": 2,
   "metadata": {
    "scrolled": true
   },
   "outputs": [],
   "source": [
    "N=sochet(52,4)"
   ]
  },
  {
   "cell_type": "markdown",
   "metadata": {},
   "source": [
    "Находим число исходов при которых выбрано 4 карты не тузы "
   ]
  },
  {
   "cell_type": "code",
   "execution_count": 3,
   "metadata": {},
   "outputs": [],
   "source": [
    "N_not_ace=sochet((52-4),4)"
   ]
  },
  {
   "cell_type": "markdown",
   "metadata": {},
   "source": [
    "веротяность того, что из 52-х карт выбрано 4 и среди них нет ни одного туза"
   ]
  },
  {
   "cell_type": "code",
   "execution_count": 4,
   "metadata": {},
   "outputs": [
    {
     "data": {
      "text/plain": [
       "0.7187367254594146"
      ]
     },
     "execution_count": 4,
     "metadata": {},
     "output_type": "execute_result"
    }
   ],
   "source": [
    "P_not_ace=N_not_ace/N\n",
    "P_not_ace"
   ]
  },
  {
   "cell_type": "markdown",
   "metadata": {},
   "source": [
    "Вероятность что выпадет хтя бы один туз\n",
    "$$ P(A)=1-P(\\overline{A})$$\n"
   ]
  },
  {
   "cell_type": "code",
   "execution_count": 5,
   "metadata": {},
   "outputs": [
    {
     "data": {
      "text/plain": [
       "0.2812632745405854"
      ]
     },
     "execution_count": 5,
     "metadata": {},
     "output_type": "execute_result"
    }
   ],
   "source": [
    "P=1-P_not_ace\n",
    "P"
   ]
  },
  {
   "cell_type": "code",
   "execution_count": 13,
   "metadata": {},
   "outputs": [
    {
     "data": {
      "text/plain": [
       "76145"
      ]
     },
     "execution_count": 13,
     "metadata": {},
     "output_type": "execute_result"
    }
   ],
   "source": [
    "sochet(52,4)-sochet(48,4)"
   ]
  },
  {
   "cell_type": "markdown",
   "metadata": {},
   "source": [
    "###### Ответ: число исходов, соответствующих тому, что был вытянут хотя бы один туз 0.2812632745405854"
   ]
  },
  {
   "cell_type": "markdown",
   "metadata": {},
   "source": [
    "__Задача 2__\n",
    "\n",
    "Семь человек рассаживаются наудачу на скамейке. Какова вероятность того, что рядом будут сидеть: а) два определённых человека? б) три определённых человека?"
   ]
  },
  {
   "cell_type": "markdown",
   "metadata": {},
   "source": [
    "###### Первая часть задачи. Два определенных человека сядут рядом (A).\n",
    "\n",
    "1.1.первый человек сел с краю скамейки - 2 исхода из 7 мест\n",
    "\n",
    "1.2 второй человек сел рядом с первым - 1 исход из 6 оставшихся мест\n",
    "\n",
    "2.1 первый человек сел в любом месте кроме крайних двух - 5 исходов из 7 мест\n",
    "\n",
    "2.2 второй сел рядом с первым - 2 исхода из 6 оставшихся мест\n",
    "\n",
    "Общая вероятность:\n",
    "$$ P(A)=\\dfrac{2}{7}\\cdot \\dfrac{1}{6}+ \\dfrac{5}{7}\\cdot \\dfrac{2}{6}=\\dfrac{12}{42}=\\dfrac{2}{7}$$"
   ]
  },
  {
   "cell_type": "code",
   "execution_count": 31,
   "metadata": {},
   "outputs": [
    {
     "data": {
      "text/plain": [
       "0.2857142857142857"
      ]
     },
     "execution_count": 31,
     "metadata": {},
     "output_type": "execute_result"
    }
   ],
   "source": [
    "(2/7)*(1/6)+(5/7)*(2/6)"
   ]
  },
  {
   "cell_type": "code",
   "execution_count": 14,
   "metadata": {},
   "outputs": [
    {
     "data": {
      "text/plain": [
       "0.2857142857142857"
      ]
     },
     "execution_count": 14,
     "metadata": {},
     "output_type": "execute_result"
    }
   ],
   "source": [
    "2/7"
   ]
  },
  {
   "cell_type": "markdown",
   "metadata": {},
   "source": [
    "###### Вторая часть задачи. три определённых человека (B)?\n",
    "Решение через комбинаторику.\n",
    "\n",
    "Количество перестановок 3-х человек $$  n(3)=3!=6 $$\n",
    "\n",
    "Количество случаев, когда 3 человека сидят рядом на скамейке на 7 мест: $$ 7-2=5 $$\n",
    "\n",
    "Количество благоприятных исходов: $$5\\cdot 3!=30$$\n",
    "\n",
    "Общее количество размещений из 3 человек по 7 местам: $$ \\dfrac{7!}{(7-3)!}=5\\cdot6\\cdot7=210$$\n",
    "\n",
    "Вероятность P(B) $$P(B)=\\dfrac{30}{210}=\\dfrac{1}{7}$$ "
   ]
  },
  {
   "cell_type": "code",
   "execution_count": 15,
   "metadata": {},
   "outputs": [
    {
     "data": {
      "text/plain": [
       "0.14285714285714285"
      ]
     },
     "execution_count": 15,
     "metadata": {},
     "output_type": "execute_result"
    }
   ],
   "source": [
    "1/7"
   ]
  },
  {
   "cell_type": "markdown",
   "metadata": {},
   "source": [
    "__Задача 3__\n",
    "\n",
    "Из 60 вопросов, входящих в экзаменационные билеты, студент знает 50. Какова вероятность того, что среди трёх наугад выбранных вопросов студент знает: а) все? б) два?"
   ]
  },
  {
   "cell_type": "markdown",
   "metadata": {},
   "source": [
    "а) решение через теорию вероятностей"
   ]
  },
  {
   "cell_type": "code",
   "execution_count": 36,
   "metadata": {},
   "outputs": [
    {
     "data": {
      "text/plain": [
       "0.5727644652250146"
      ]
     },
     "execution_count": 36,
     "metadata": {},
     "output_type": "execute_result"
    }
   ],
   "source": [
    "(50*49*48)/(60*59*58)"
   ]
  },
  {
   "cell_type": "markdown",
   "metadata": {},
   "source": [
    "a) решение через комбинаторику"
   ]
  },
  {
   "cell_type": "code",
   "execution_count": 40,
   "metadata": {},
   "outputs": [
    {
     "data": {
      "text/plain": [
       "0.5727644652250146"
      ]
     },
     "execution_count": 40,
     "metadata": {},
     "output_type": "execute_result"
    }
   ],
   "source": [
    "с_summary=sochet(60,3)\n",
    "c_positive=sochet(50,3)\n",
    "C=c_positive/с_summary\n",
    "C"
   ]
  },
  {
   "cell_type": "markdown",
   "metadata": {},
   "source": [
    "б) решение через теорию вероятностей"
   ]
  },
  {
   "cell_type": "code",
   "execution_count": 43,
   "metadata": {},
   "outputs": [
    {
     "data": {
      "text/plain": [
       "0.35797779076563413"
      ]
     },
     "execution_count": 43,
     "metadata": {},
     "output_type": "execute_result"
    }
   ],
   "source": [
    "(3*50*10*49)/(60*59*58)"
   ]
  },
  {
   "cell_type": "markdown",
   "metadata": {},
   "source": [
    "б) решение через комбинаторику"
   ]
  },
  {
   "cell_type": "code",
   "execution_count": 48,
   "metadata": {},
   "outputs": [
    {
     "data": {
      "text/plain": [
       "0.35797779076563413"
      ]
     },
     "execution_count": 48,
     "metadata": {},
     "output_type": "execute_result"
    }
   ],
   "source": [
    "с_summary=sochet(60,3)\n",
    "c_positive=sochet(50,2)\n",
    "c_negative=sochet(10,1)\n",
    "C=(c_positive*c_negative)/с_summary\n",
    "C"
   ]
  },
  {
   "cell_type": "markdown",
   "metadata": {},
   "source": [
    "__Задача 4__\n",
    "\n",
    "Бросается игральная кость. Пусть событие `A` - появление чётного числа, событие `B` - появление числа больше трёх. Являются ли эти события независимыми?\n"
   ]
  },
  {
   "cell_type": "markdown",
   "metadata": {},
   "source": [
    "###### Первоначальный ответ : \n",
    " так как четное число может быть и больше и меньше трех (пример: 2<3; 4,6>3), и обратно, число больше трех может быть как четным (4,6) так и нечетным (5). Так как требований, чтобы исполнилось сразу два события нет, то эти события независимы\n",
    " \n",
    " ###### Ответ после разбора ДЗ на 2-м уроке:\n",
    " События зависимы, так как вероятности для события А отличаются при разных исходах события В "
   ]
  },
  {
   "cell_type": "markdown",
   "metadata": {},
   "source": [
    "__Задача 5__\n",
    "\n",
    "Допустим, имеется некоторая очень редкая болезнь (поражает 0.1% населения). Вы приходите к врачу, вам делают тест на эту болезнь, и тест оказывается положительным. Врач говорит вам, что этот тест верно выявляет 99% больных этой болезнью и всего лишь в 1% случаев даёт ложный положительный ответ.\n",
    "\n",
    "_Вопрос_: какова вероятность, что вы действительно больны ей?\n",
    "\n",
    "_Подсказка_: вновь используйте формулу Байеса с раскрытием знаменателя с помощью формулы полной вероятности."
   ]
  },
  {
   "cell_type": "markdown",
   "metadata": {},
   "source": [
    "##### Решение:\n",
    "\n",
    "событие $B$ - я болен \n",
    "\n",
    "событие $\\overline{B}$ - я не болен\n",
    "\n",
    "событие $А$ - положительный результат теста\n",
    "\n",
    "Вероятнотсь того, что результат теста положителен: $P(A)=P(A|B)\\cdot P(B) + P(A|\\overline{B})\\cdot P(\\overline{B}) $\n",
    "\n",
    "$$P(A)=1\\cdot 0,001 + 0,01\\cdot 0,999=0,01099$$"
   ]
  },
  {
   "cell_type": "code",
   "execution_count": 53,
   "metadata": {},
   "outputs": [
    {
     "data": {
      "text/plain": [
       "0.01099"
      ]
     },
     "execution_count": 53,
     "metadata": {},
     "output_type": "execute_result"
    }
   ],
   "source": [
    "1*0.001+0.01*0.999"
   ]
  },
  {
   "cell_type": "markdown",
   "metadata": {},
   "source": [
    "выразим через формулу Байеса\n",
    "$$P(B|A) = \\frac{P(A|B) \\cdot P(B)}{P(A)}$$"
   ]
  },
  {
   "cell_type": "code",
   "execution_count": 54,
   "metadata": {},
   "outputs": [
    {
     "data": {
      "text/plain": [
       "0.09099181073703368"
      ]
     },
     "execution_count": 54,
     "metadata": {},
     "output_type": "execute_result"
    }
   ],
   "source": [
    "0.001/0.01099"
   ]
  }
 ],
 "metadata": {
  "colab": {
   "name": "Матстат - Урок 1.ipynb",
   "provenance": [],
   "version": "0.3.2"
  },
  "kernelspec": {
   "display_name": "Python 3",
   "language": "python",
   "name": "python3"
  },
  "language_info": {
   "codemirror_mode": {
    "name": "ipython",
    "version": 3
   },
   "file_extension": ".py",
   "mimetype": "text/x-python",
   "name": "python",
   "nbconvert_exporter": "python",
   "pygments_lexer": "ipython3",
   "version": "3.7.3"
  }
 },
 "nbformat": 4,
 "nbformat_minor": 4
}
